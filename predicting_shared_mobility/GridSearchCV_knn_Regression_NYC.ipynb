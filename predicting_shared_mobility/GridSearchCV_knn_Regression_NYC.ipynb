{
 "cells": [
  {
   "cell_type": "code",
   "execution_count": 3,
   "metadata": {
    "collapsed": false
   },
   "outputs": [],
   "source": [
    "# Configuring libraries\n",
    "\n",
    "import pandas as pd\n",
    "import seaborn as sns\n",
    "import matplotlib.pyplot as plt\n",
    "import numpy as np\n",
    "\n",
    "from sklearn.model_selection import GridSearchCV\n",
    "from sklearn.pipeline import Pipeline\n",
    "from sklearn.preprocessing import StandardScaler\n",
    "from sklearn.model_selection import train_test_split\n",
    "from sklearn.neighbors import KNeighborsRegressor\n",
    "from sklearn.model_selection import KFold\n",
    "from sklearn import metrics\n",
    "\n",
    "%matplotlib inline"
   ]
  },
  {
   "cell_type": "code",
   "execution_count": 4,
   "metadata": {
    "collapsed": false
   },
   "outputs": [
    {
     "data": {
      "text/html": [
       "<div>\n",
       "<table border=\"1\" class=\"dataframe\">\n",
       "  <thead>\n",
       "    <tr style=\"text-align: right;\">\n",
       "      <th></th>\n",
       "      <th>day</th>\n",
       "      <th>hour</th>\n",
       "      <th>geohash</th>\n",
       "      <th>n.total</th>\n",
       "      <th>n.uber</th>\n",
       "      <th>n.bike</th>\n",
       "      <th>n.green</th>\n",
       "      <th>n.yellow</th>\n",
       "      <th>lat</th>\n",
       "      <th>long</th>\n",
       "      <th>...</th>\n",
       "      <th>state</th>\n",
       "      <th>borough</th>\n",
       "      <th>hour.num</th>\n",
       "      <th>hour.cos</th>\n",
       "      <th>hour.sin</th>\n",
       "      <th>wday.num</th>\n",
       "      <th>wday.cos</th>\n",
       "      <th>wday.sin</th>\n",
       "      <th>prec.cat</th>\n",
       "      <th>log.total</th>\n",
       "    </tr>\n",
       "  </thead>\n",
       "  <tbody>\n",
       "    <tr>\n",
       "      <th>1</th>\n",
       "      <td>1</td>\n",
       "      <td>0</td>\n",
       "      <td>dr5qu</td>\n",
       "      <td>4</td>\n",
       "      <td>0</td>\n",
       "      <td>0</td>\n",
       "      <td>3</td>\n",
       "      <td>1</td>\n",
       "      <td>40.583496</td>\n",
       "      <td>-73.981934</td>\n",
       "      <td>...</td>\n",
       "      <td>New York</td>\n",
       "      <td>Kings County</td>\n",
       "      <td>0.0</td>\n",
       "      <td>1.0</td>\n",
       "      <td>0.0</td>\n",
       "      <td>0.285714</td>\n",
       "      <td>-0.222521</td>\n",
       "      <td>0.974928</td>\n",
       "      <td>(-Inf,0]</td>\n",
       "      <td>2.386294</td>\n",
       "    </tr>\n",
       "    <tr>\n",
       "      <th>2</th>\n",
       "      <td>1</td>\n",
       "      <td>0</td>\n",
       "      <td>dr5qv</td>\n",
       "      <td>4</td>\n",
       "      <td>0</td>\n",
       "      <td>0</td>\n",
       "      <td>4</td>\n",
       "      <td>0</td>\n",
       "      <td>40.583496</td>\n",
       "      <td>-73.937988</td>\n",
       "      <td>...</td>\n",
       "      <td>New York</td>\n",
       "      <td>Kings County</td>\n",
       "      <td>0.0</td>\n",
       "      <td>1.0</td>\n",
       "      <td>0.0</td>\n",
       "      <td>0.285714</td>\n",
       "      <td>-0.222521</td>\n",
       "      <td>0.974928</td>\n",
       "      <td>(-Inf,0]</td>\n",
       "      <td>2.386294</td>\n",
       "    </tr>\n",
       "    <tr>\n",
       "      <th>3</th>\n",
       "      <td>1</td>\n",
       "      <td>0</td>\n",
       "      <td>dr5r5</td>\n",
       "      <td>7</td>\n",
       "      <td>1</td>\n",
       "      <td>0</td>\n",
       "      <td>5</td>\n",
       "      <td>1</td>\n",
       "      <td>40.627441</td>\n",
       "      <td>-74.025879</td>\n",
       "      <td>...</td>\n",
       "      <td>New York</td>\n",
       "      <td>Kings County</td>\n",
       "      <td>0.0</td>\n",
       "      <td>1.0</td>\n",
       "      <td>0.0</td>\n",
       "      <td>0.285714</td>\n",
       "      <td>-0.222521</td>\n",
       "      <td>0.974928</td>\n",
       "      <td>(-Inf,0]</td>\n",
       "      <td>2.945910</td>\n",
       "    </tr>\n",
       "    <tr>\n",
       "      <th>4</th>\n",
       "      <td>1</td>\n",
       "      <td>0</td>\n",
       "      <td>dr5r7</td>\n",
       "      <td>1</td>\n",
       "      <td>0</td>\n",
       "      <td>0</td>\n",
       "      <td>0</td>\n",
       "      <td>1</td>\n",
       "      <td>40.671387</td>\n",
       "      <td>-74.025879</td>\n",
       "      <td>...</td>\n",
       "      <td>New York</td>\n",
       "      <td>NaN</td>\n",
       "      <td>0.0</td>\n",
       "      <td>1.0</td>\n",
       "      <td>0.0</td>\n",
       "      <td>0.285714</td>\n",
       "      <td>-0.222521</td>\n",
       "      <td>0.974928</td>\n",
       "      <td>(-Inf,0]</td>\n",
       "      <td>1.000000</td>\n",
       "    </tr>\n",
       "    <tr>\n",
       "      <th>5</th>\n",
       "      <td>1</td>\n",
       "      <td>0</td>\n",
       "      <td>dr5re</td>\n",
       "      <td>672</td>\n",
       "      <td>15</td>\n",
       "      <td>7</td>\n",
       "      <td>0</td>\n",
       "      <td>650</td>\n",
       "      <td>40.715332</td>\n",
       "      <td>-74.025879</td>\n",
       "      <td>...</td>\n",
       "      <td>New York</td>\n",
       "      <td>NaN</td>\n",
       "      <td>0.0</td>\n",
       "      <td>1.0</td>\n",
       "      <td>0.0</td>\n",
       "      <td>0.285714</td>\n",
       "      <td>-0.222521</td>\n",
       "      <td>0.974928</td>\n",
       "      <td>(-Inf,0]</td>\n",
       "      <td>7.510258</td>\n",
       "    </tr>\n",
       "  </tbody>\n",
       "</table>\n",
       "<p>5 rows × 26 columns</p>\n",
       "</div>"
      ],
      "text/plain": [
       "   day  hour geohash  n.total  n.uber  n.bike  n.green  n.yellow        lat  \\\n",
       "1    1     0   dr5qu        4       0       0        3         1  40.583496   \n",
       "2    1     0   dr5qv        4       0       0        4         0  40.583496   \n",
       "3    1     0   dr5r5        7       1       0        5         1  40.627441   \n",
       "4    1     0   dr5r7        1       0       0        0         1  40.671387   \n",
       "5    1     0   dr5re      672      15       7        0       650  40.715332   \n",
       "\n",
       "        long    ...         state       borough hour.num  hour.cos  hour.sin  \\\n",
       "1 -73.981934    ...      New York  Kings County      0.0       1.0       0.0   \n",
       "2 -73.937988    ...      New York  Kings County      0.0       1.0       0.0   \n",
       "3 -74.025879    ...      New York  Kings County      0.0       1.0       0.0   \n",
       "4 -74.025879    ...      New York           NaN      0.0       1.0       0.0   \n",
       "5 -74.025879    ...      New York           NaN      0.0       1.0       0.0   \n",
       "\n",
       "   wday.num  wday.cos  wday.sin  prec.cat  log.total  \n",
       "1  0.285714 -0.222521  0.974928  (-Inf,0]   2.386294  \n",
       "2  0.285714 -0.222521  0.974928  (-Inf,0]   2.386294  \n",
       "3  0.285714 -0.222521  0.974928  (-Inf,0]   2.945910  \n",
       "4  0.285714 -0.222521  0.974928  (-Inf,0]   1.000000  \n",
       "5  0.285714 -0.222521  0.974928  (-Inf,0]   7.510258  \n",
       "\n",
       "[5 rows x 26 columns]"
      ]
     },
     "execution_count": 4,
     "metadata": {},
     "output_type": "execute_result"
    }
   ],
   "source": [
    "# Reading the data\n",
    "\n",
    "df = pd.read_csv('train.csv', index_col = 0)\n",
    "df.head()"
   ]
  },
  {
   "cell_type": "code",
   "execution_count": 5,
   "metadata": {
    "collapsed": true
   },
   "outputs": [],
   "source": [
    "# Preparing training and testing data\n",
    "\n",
    "y = np.log10(df['n.total']+1)\n",
    "X = df[['day', 'hour', 'lat', 'long', 'wknd', 'mean_temp', 'hour.num', 'hour.cos', 'hour.sin', \n",
    "        'wday.num', 'wday.cos', 'wday.sin', 'precip_sum']]"
   ]
  },
  {
   "cell_type": "code",
   "execution_count": 6,
   "metadata": {
    "collapsed": false
   },
   "outputs": [],
   "source": [
    "X_train, X_test, y_train, y_test = train_test_split(X, y, test_size=0.30)"
   ]
  },
  {
   "cell_type": "markdown",
   "metadata": {},
   "source": [
    "### Tuning hyperparameter k via gridsearch"
   ]
  },
  {
   "cell_type": "code",
   "execution_count": 7,
   "metadata": {
    "collapsed": false
   },
   "outputs": [
    {
     "name": "stdout",
     "output_type": "stream",
     "text": [
      "Best MSE: -0.163\n",
      "{'reg__n_neighbors': 1}\n"
     ]
    }
   ],
   "source": [
    "\n",
    "# Pipeline: sequentially applying standardization and a knnReg estimator \n",
    "# StandardScaler: standardizing features by removing the mean and scaling to unit variance\n",
    "# GridSearch: defining a grid of parameters over which to optimize the knn regressor\n",
    "\n",
    "pipe_knn = Pipeline([('scl', StandardScaler()), ('reg', KNeighborsRegressor())])\n",
    "param_range = [1,2,3,4,5,6,7,8,9]\n",
    "params = [{'reg__n_neighbors': param_range}]\n",
    "\n",
    "gs = GridSearchCV(estimator = pipe_knn, \n",
    "                  param_grid = params, \n",
    "                  scoring = ('neg_mean_squared_error'), \n",
    "                  cv =10, \n",
    "                  n_jobs = -1)\n",
    "gs = gs.fit(X_train, y_train)\n",
    "\n",
    "print('Best MSE: %.3f' %gs.best_score_)\n",
    "print(gs.best_params_)"
   ]
  },
  {
   "cell_type": "code",
   "execution_count": 39,
   "metadata": {
    "collapsed": false
   },
   "outputs": [
    {
     "name": "stdout",
     "output_type": "stream",
     "text": [
      "Pipeline(steps=[('scl', StandardScaler(copy=True, with_mean=True, with_std=True)), ('reg', KNeighborsRegressor(algorithm='auto', leaf_size=30, metric='minkowski',\n",
      "          metric_params=None, n_jobs=1, n_neighbors=1, p=2,\n",
      "          weights='uniform'))])\n",
      "{'reg__n_neighbors': 1}\n"
     ]
    }
   ],
   "source": [
    "print(gs.best_estimator_)\n",
    "print(gs.best_params_)"
   ]
  },
  {
   "cell_type": "code",
   "execution_count": 40,
   "metadata": {
    "collapsed": false
   },
   "outputs": [
    {
     "name": "stdout",
     "output_type": "stream",
     "text": [
      "R-Squared: 0.88061\n"
     ]
    }
   ],
   "source": [
    "knn_b = gs.best_estimator_\n",
    "knn_b.fit(X_train, y_train)\n",
    "print('R-Squared: %.5f' %knn_b.score(X_test, y_test))"
   ]
  },
  {
   "cell_type": "code",
   "execution_count": 41,
   "metadata": {
    "collapsed": false
   },
   "outputs": [
    {
     "data": {
      "text/plain": [
       "Pipeline(steps=[('scl', StandardScaler(copy=True, with_mean=True, with_std=True)), ('reg', KNeighborsRegressor(algorithm='auto', leaf_size=30, metric='minkowski',\n",
       "          metric_params=None, n_jobs=1, n_neighbors=1, p=2,\n",
       "          weights='uniform'))])"
      ]
     },
     "execution_count": 41,
     "metadata": {},
     "output_type": "execute_result"
    }
   ],
   "source": [
    "knn_b.fit(X_train, y_train)"
   ]
  },
  {
   "cell_type": "code",
   "execution_count": 42,
   "metadata": {
    "collapsed": true
   },
   "outputs": [],
   "source": [
    "predictions_b = knn_b.predict(X_test)"
   ]
  },
  {
   "cell_type": "code",
   "execution_count": 43,
   "metadata": {
    "collapsed": false
   },
   "outputs": [
    {
     "name": "stdout",
     "output_type": "stream",
     "text": [
      "MAE: 0.200695830246\n",
      "MSE: 0.123668544748\n",
      "RMSE: 0.351665387475\n",
      "RSquared 0.880616537786\n"
     ]
    }
   ],
   "source": [
    "print('MAE:', metrics.mean_absolute_error(y_test, predictions_b))\n",
    "print('MSE:', metrics.mean_squared_error(y_test, predictions_b))\n",
    "print('RMSE:', np.sqrt(metrics.mean_squared_error(y_test, predictions_b)))\n",
    "print('RSquared', metrics.explained_variance_score(y_test, predictions_b))"
   ]
  },
  {
   "cell_type": "markdown",
   "metadata": {},
   "source": [
    "### Training the 'best' kNN Regression model"
   ]
  },
  {
   "cell_type": "code",
   "execution_count": 14,
   "metadata": {
    "collapsed": false
   },
   "outputs": [],
   "source": [
    "# fitting the standardscaler only once on the training data and using \n",
    "# those parameters to transform the test set or any new data point\n",
    "\n",
    "scaler = StandardScaler()\n",
    "\n",
    "scaler.fit_transform(X)\n",
    "scaled_features = scaler.transform(X)"
   ]
  },
  {
   "cell_type": "code",
   "execution_count": 15,
   "metadata": {
    "collapsed": false
   },
   "outputs": [],
   "source": [
    "knn = KNeighborsRegressor(n_neighbors = 1)"
   ]
  },
  {
   "cell_type": "code",
   "execution_count": 16,
   "metadata": {
    "collapsed": true
   },
   "outputs": [],
   "source": [
    "X_train_s, X_test_s, y_train_s, y_test_s = train_test_split(scaled_features, y, test_size=0.30)"
   ]
  },
  {
   "cell_type": "code",
   "execution_count": 18,
   "metadata": {
    "collapsed": false
   },
   "outputs": [
    {
     "data": {
      "text/plain": [
       "KNeighborsRegressor(algorithm='auto', leaf_size=30, metric='minkowski',\n",
       "          metric_params=None, n_jobs=1, n_neighbors=1, p=2,\n",
       "          weights='uniform')"
      ]
     },
     "execution_count": 18,
     "metadata": {},
     "output_type": "execute_result"
    }
   ],
   "source": [
    "knn.fit(X_train_s, y_train_s)"
   ]
  },
  {
   "cell_type": "markdown",
   "metadata": {},
   "source": [
    "### Prediction and Evaluation"
   ]
  },
  {
   "cell_type": "code",
   "execution_count": 19,
   "metadata": {
    "collapsed": true
   },
   "outputs": [],
   "source": [
    "predictions = knn.predict(X_test_s)"
   ]
  },
  {
   "cell_type": "code",
   "execution_count": 24,
   "metadata": {
    "collapsed": false
   },
   "outputs": [
    {
     "data": {
      "text/html": [
       "<div>\n",
       "<table border=\"1\" class=\"dataframe\">\n",
       "  <thead>\n",
       "    <tr style=\"text-align: right;\">\n",
       "      <th></th>\n",
       "      <th>0</th>\n",
       "      <th>1</th>\n",
       "    </tr>\n",
       "  </thead>\n",
       "  <tbody>\n",
       "    <tr>\n",
       "      <th>0</th>\n",
       "      <td>5</td>\n",
       "      <td>10</td>\n",
       "    </tr>\n",
       "    <tr>\n",
       "      <th>1</th>\n",
       "      <td>7038</td>\n",
       "      <td>12990</td>\n",
       "    </tr>\n",
       "    <tr>\n",
       "      <th>2</th>\n",
       "      <td>394</td>\n",
       "      <td>451</td>\n",
       "    </tr>\n",
       "    <tr>\n",
       "      <th>3</th>\n",
       "      <td>220</td>\n",
       "      <td>230</td>\n",
       "    </tr>\n",
       "    <tr>\n",
       "      <th>4</th>\n",
       "      <td>2222</td>\n",
       "      <td>2551</td>\n",
       "    </tr>\n",
       "  </tbody>\n",
       "</table>\n",
       "</div>"
      ],
      "text/plain": [
       "      0      1\n",
       "0     5     10\n",
       "1  7038  12990\n",
       "2   394    451\n",
       "3   220    230\n",
       "4  2222   2551"
      ]
     },
     "execution_count": 24,
     "metadata": {},
     "output_type": "execute_result"
    }
   ],
   "source": [
    "# Show some of the predictions vs. real number of trips\n",
    "pd.DataFrame(np.round(np.power(10, np.column_stack((predictions, y_test_s))) - 1, decimals = 0).astype(int)).head() "
   ]
  },
  {
   "cell_type": "code",
   "execution_count": 45,
   "metadata": {
    "collapsed": false
   },
   "outputs": [
    {
     "data": {
      "image/png": "[encoded data removed]",
      "text/plain": [
       "<matplotlib.figure.Figure at 0x116794cc0>"
      ]
     },
     "metadata": {},
     "output_type": "display_data"
    }
   ],
   "source": [
    "# Scatterplot of real test values vs. predicted ones\n",
    "plt.scatter(y_test_s, predictions)\n",
    "plt.title('kNN Regression')\n",
    "plt.xlabel('Actual target values')\n",
    "plt.ylabel('Predicted target values')\n",
    "plt.savefig('knn.png')"
   ]
  },
  {
   "cell_type": "code",
   "execution_count": 27,
   "metadata": {
    "collapsed": false
   },
   "outputs": [
    {
     "data": {
      "text/plain": [
       "(array([  3.00000000e+00,   0.00000000e+00,   7.00000000e+00,\n",
       "          8.00000000e+00,   1.00000000e+01,   1.10000000e+01,\n",
       "          7.00000000e+00,   1.00000000e+01,   1.00000000e+01,\n",
       "          1.00000000e+01,   1.40000000e+01,   1.70000000e+01,\n",
       "          2.10000000e+01,   2.80000000e+01,   3.10000000e+01,\n",
       "          4.20000000e+01,   7.20000000e+01,   9.50000000e+01,\n",
       "          1.34000000e+02,   1.98000000e+02,   3.16000000e+02,\n",
       "          7.27000000e+02,   9.69000000e+02,   3.07700000e+03,\n",
       "          5.27700000e+03,   2.83000000e+03,   1.64100000e+03,\n",
       "          8.11000000e+02,   3.29000000e+02,   1.80000000e+02,\n",
       "          1.11000000e+02,   6.90000000e+01,   5.10000000e+01,\n",
       "          3.30000000e+01,   2.00000000e+01,   2.00000000e+01,\n",
       "          2.50000000e+01,   1.40000000e+01,   1.50000000e+01,\n",
       "          6.00000000e+00,   3.00000000e+00,   2.00000000e+00,\n",
       "          3.00000000e+00,   7.00000000e+00,   5.00000000e+00,\n",
       "          7.00000000e+00,   6.00000000e+00,   0.00000000e+00,\n",
       "          1.00000000e+00,   1.00000000e+00]),\n",
       " array([-2.84281719, -2.72690499, -2.6109928 , -2.49508061, -2.37916841,\n",
       "        -2.26325622, -2.14734403, -2.03143184, -1.91551964, -1.79960745,\n",
       "        -1.68369526, -1.56778307, -1.45187087, -1.33595868, -1.22004649,\n",
       "        -1.1041343 , -0.9882221 , -0.87230991, -0.75639772, -0.64048553,\n",
       "        -0.52457333, -0.40866114, -0.29274895, -0.17683676, -0.06092456,\n",
       "         0.05498763,  0.17089982,  0.28681201,  0.40272421,  0.5186364 ,\n",
       "         0.63454859,  0.75046078,  0.86637298,  0.98228517,  1.09819736,\n",
       "         1.21410955,  1.33002175,  1.44593394,  1.56184613,  1.67775832,\n",
       "         1.79367052,  1.90958271,  2.0254949 ,  2.1414071 ,  2.25731929,\n",
       "         2.37323148,  2.48914367,  2.60505587,  2.72096806,  2.83688025,\n",
       "         2.95279244]),\n",
       " <a list of 50 Patch objects>)"
      ]
     },
     "execution_count": 27,
     "metadata": {},
     "output_type": "execute_result"
    },
    {
     "data": {
      "image/png": "[encoded data removed]",
      "text/plain": [
       "<matplotlib.figure.Figure at 0x115828128>"
      ]
     },
     "metadata": {},
     "output_type": "display_data"
    }
   ],
   "source": [
    "# Plotting a histogram of the residuals - are they normally distributed?\n",
    "plt.hist((y_test_s-predictions), bins = 50)"
   ]
  },
  {
   "cell_type": "markdown",
   "metadata": {},
   "source": [
    "### Analyzing the results"
   ]
  },
  {
   "cell_type": "code",
   "execution_count": 30,
   "metadata": {
    "collapsed": false
   },
   "outputs": [
    {
     "name": "stdout",
     "output_type": "stream",
     "text": [
      "MAE: 0.196795865897\n",
      "MSE: 0.116021685349\n",
      "RMSE: 0.34061956102\n",
      "RSquared 0.887345548795\n"
     ]
    }
   ],
   "source": [
    "print('MAE:', metrics.mean_absolute_error(y_test_s, predictions))\n",
    "print('MSE:', metrics.mean_squared_error(y_test_s, predictions))\n",
    "print('RMSE:', np.sqrt(metrics.mean_squared_error(y_test_s, predictions)))\n",
    "print('RSquared', metrics.explained_variance_score(y_test_s, predictions))"
   ]
  },
  {
   "cell_type": "code",
   "execution_count": 33,
   "metadata": {
    "collapsed": true
   },
   "outputs": [],
   "source": [
    "RMSE = []\n",
    "\n",
    "# Will take some time\n",
    "for i in range(1,10):\n",
    "    \n",
    "    knn = KNeighborsRegressor(n_neighbors=i)\n",
    "    knn.fit(X_train_s,y_train_s)\n",
    "    pred_i = knn.predict(X_test_s)\n",
    "    RMSE.append(np.sqrt(metrics.mean_squared_error(y_test_s, pred_i)))"
   ]
  },
  {
   "cell_type": "code",
   "execution_count": 34,
   "metadata": {
    "collapsed": false
   },
   "outputs": [
    {
     "data": {
      "text/plain": [
       "<matplotlib.text.Text at 0x1167858d0>"
      ]
     },
     "execution_count": 34,
     "metadata": {},
     "output_type": "execute_result"
    },
    {
     "data": {
      "image/png": "[encoded data removed]",
      "text/plain": [
       "<matplotlib.figure.Figure at 0x115c8a7b8>"
      ]
     },
     "metadata": {},
     "output_type": "display_data"
    }
   ],
   "source": [
    "plt.figure(figsize=(10,6))\n",
    "plt.plot(range(1,10),RMSE,color='blue', linestyle='dashed', marker='o',\n",
    "         markerfacecolor='red', markersize=10)\n",
    "plt.title('RMSE vs. K Value')\n",
    "plt.xlabel('K')\n",
    "plt.ylabel('RMSE')"
   ]
  },
  {
   "cell_type": "markdown",
   "metadata": {},
   "source": [
    "### Computing evaluation metrics using 10-fold cross validation"
   ]
  },
  {
   "cell_type": "code",
   "execution_count": 36,
   "metadata": {
    "collapsed": false
   },
   "outputs": [
    {
     "name": "stderr",
     "output_type": "stream",
     "text": [
      "//anaconda/lib/python3.5/site-packages/ipykernel/__main__.py:4: SettingWithCopyWarning: \n",
      "A value is trying to be set on a copy of a slice from a DataFrame.\n",
      "Try using .loc[row_indexer,col_indexer] = value instead\n",
      "\n",
      "See the caveats in the documentation: http://pandas.pydata.org/pandas-docs/stable/indexing.html#indexing-view-versus-copy\n"
     ]
    },
    {
     "name": "stdout",
     "output_type": "stream",
     "text": [
      "RSquared on 10-fold CV: 0.8794\n",
      "RMSE on 10-fold CV: 0.3510\n"
     ]
    }
   ],
   "source": [
    "# Creating dataset to be used for CV\n",
    "df1 = df[['day', 'hour', 'lat', 'long', 'wknd', 'mean_temp', 'hour.num', 'hour.cos', 'hour.sin', \n",
    "        'wday.num', 'wday.cos', 'wday.sin', 'precip_sum']]\n",
    "df1['log.total'] = np.log10(df['n.total'] + 1)\n",
    "array = df1.values\n",
    "\n",
    "# Defining target and feature variables\n",
    "X = array[:,0:13]\n",
    "y = array[:,13]\n",
    "\n",
    "# Standardize X\n",
    "scaler.fit_transform(X)\n",
    "sf = scaler.transform(X) # scaled features\n",
    "\n",
    "\n",
    "# Computing RMSE and RSquared using 10-fold cross validation \n",
    "kf = KFold(n_splits = 10)\n",
    "for train, test in kf.split(sf):\n",
    "    knn.fit(sf[train], y[train])\n",
    "    p = knn.predict(sf[test])\n",
    "\n",
    "rmse_10cv = np.sqrt(metrics.mean_squared_error(y[test], p))\n",
    "r2_10cv = metrics.explained_variance_score(y[test], p)\n",
    "\n",
    "\n",
    "print ('RSquared on 10-fold CV: %.4f' %r2_10cv)\n",
    "print ('RMSE on 10-fold CV: %.4f' %rmse_10cv)"
   ]
  },
  {
   "cell_type": "code",
   "execution_count": null,
   "metadata": {
    "collapsed": true
   },
   "outputs": [],
   "source": []
  }
 ],
 "metadata": {
  "anaconda-cloud": {},
  "kernelspec": {
   "display_name": "Python [conda root]",
   "language": "python",
   "name": "conda-root-py"
  },
  "language_info": {
   "codemirror_mode": {
    "name": "ipython",
    "version": 3
   },
   "file_extension": ".py",
   "mimetype": "text/x-python",
   "name": "python",
   "nbconvert_exporter": "python",
   "pygments_lexer": "ipython3",
   "version": "3.5.2"
  }
 },
 "nbformat": 4,
 "nbformat_minor": 1
}
