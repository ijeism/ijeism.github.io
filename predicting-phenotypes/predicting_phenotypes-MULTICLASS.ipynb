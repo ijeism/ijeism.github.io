{
 "cells": [
  {
   "cell_type": "code",
   "execution_count": 1,
   "metadata": {
    "collapsed": true
   },
   "outputs": [],
   "source": [
    "# Configure libraries\n",
    "\n",
    "import numpy as np\n",
    "import pandas as pd\n",
    "import math\n",
    "\n",
    "import matplotlib.pyplot as plt\n",
    "import seaborn as sns\n",
    "\n",
    "from sklearn.model_selection import train_test_split\n",
    "from sklearn.model_selection import cross_val_score\n",
    "from sklearn.model_selection import GridSearchCV\n",
    "from sklearn import metrics\n",
    "from sklearn.preprocessing import StandardScaler\n",
    "from sklearn.metrics import accuracy_score\n",
    "from sklearn.dummy import DummyClassifier\n",
    "from sklearn.preprocessing import LabelEncoder\n",
    "from sklearn.metrics import confusion_matrix\n",
    "\n",
    "from sklearn.linear_model import LogisticRegression\n",
    "from sklearn.ensemble import RandomForestClassifier\n",
    "from sklearn.neighbors import KNeighborsClassifier\n",
    "from sklearn.svm import SVC\n",
    "\n",
    "%matplotlib inline"
   ]
  },
  {
   "cell_type": "code",
   "execution_count": 2,
   "metadata": {
    "collapsed": false
   },
   "outputs": [],
   "source": [
    "# Reading the data\n",
    "df = pd.read_csv('~/Dissertation/data/joined_final_incl_clusters.csv') # entire data\n",
    "df_features = pd.read_csv('~/Dissertation/data/data_joined_final_FEATURES_ONLY.csv') # features only\n",
    "\n",
    "# Create individual target variables\n",
    "Y_antibiotics = df[['antibiotics']]\n",
    "Y_class = df[['Class']]\n",
    "Y_cluster = df[['cluster']]"
   ]
  },
  {
   "cell_type": "code",
   "execution_count": 3,
   "metadata": {
    "collapsed": false
   },
   "outputs": [],
   "source": [
    "# drop all records with tolerance_phenotype != an antibiotic\n",
    "df = df.dropna(subset=['Class'])"
   ]
  },
  {
   "cell_type": "code",
   "execution_count": 4,
   "metadata": {
    "collapsed": false
   },
   "outputs": [
    {
     "data": {
      "text/plain": [
       "array([9, 9, 9, ..., 5, 5, 5])"
      ]
     },
     "execution_count": 4,
     "metadata": {},
     "output_type": "execute_result"
    }
   ],
   "source": [
    "class_le = LabelEncoder()\n",
    "y = class_le.fit_transform(df['Class'].values)\n",
    "y"
   ]
  },
  {
   "cell_type": "code",
   "execution_count": 53,
   "metadata": {
    "collapsed": false
   },
   "outputs": [],
   "source": [
    "labels = list(class_le.classes_)"
   ]
  },
  {
   "cell_type": "code",
   "execution_count": 55,
   "metadata": {
    "collapsed": false
   },
   "outputs": [],
   "source": [
    "labels_encoded = class_le.transform(labels)"
   ]
  },
  {
   "cell_type": "code",
   "execution_count": 52,
   "metadata": {
    "collapsed": false
   },
   "outputs": [
    {
     "data": {
      "text/plain": [
       "['Aminoacids',\n",
       " 'Aminoglycosides',\n",
       " 'Cephalosporins',\n",
       " 'Lincosamides',\n",
       " 'Macrolides',\n",
       " 'Mycobacteria',\n",
       " 'Nitrofurans',\n",
       " 'Others',\n",
       " 'Penicillins',\n",
       " 'Quinolones/Fluoroquinolones',\n",
       " 'Sulfonamides',\n",
       " 'Terpenes',\n",
       " 'Tetracyclines']"
      ]
     },
     "execution_count": 52,
     "metadata": {},
     "output_type": "execute_result"
    }
   ],
   "source": [
    "list(class_le.inverse_transform(class_le.transform(list(class_le.classes_))))"
   ]
  },
  {
   "cell_type": "code",
   "execution_count": 5,
   "metadata": {
    "collapsed": false
   },
   "outputs": [
    {
     "data": {
      "text/html": [
       "<div>\n",
       "<table border=\"1\" class=\"dataframe\">\n",
       "  <thead>\n",
       "    <tr style=\"text-align: right;\">\n",
       "      <th></th>\n",
       "      <th>F1</th>\n",
       "      <th>F2</th>\n",
       "      <th>F3</th>\n",
       "      <th>F4</th>\n",
       "      <th>F5</th>\n",
       "      <th>F6</th>\n",
       "      <th>F7</th>\n",
       "      <th>F8</th>\n",
       "      <th>F9</th>\n",
       "      <th>F10</th>\n",
       "      <th>...</th>\n",
       "      <th>F696</th>\n",
       "      <th>F697</th>\n",
       "      <th>F698</th>\n",
       "      <th>F699</th>\n",
       "      <th>F700</th>\n",
       "      <th>F701</th>\n",
       "      <th>F702</th>\n",
       "      <th>F703</th>\n",
       "      <th>RSA</th>\n",
       "      <th>PRED_DDG</th>\n",
       "    </tr>\n",
       "  </thead>\n",
       "  <tbody>\n",
       "    <tr>\n",
       "      <th>0</th>\n",
       "      <td>-0.79</td>\n",
       "      <td>-0.39</td>\n",
       "      <td>0.44</td>\n",
       "      <td>0.48</td>\n",
       "      <td>-0.09</td>\n",
       "      <td>0.0</td>\n",
       "      <td>0.0</td>\n",
       "      <td>0.033</td>\n",
       "      <td>-32.1</td>\n",
       "      <td>65</td>\n",
       "      <td>...</td>\n",
       "      <td>0.001528</td>\n",
       "      <td>-0.22435</td>\n",
       "      <td>-0.13454</td>\n",
       "      <td>-0.01798</td>\n",
       "      <td>-0.021</td>\n",
       "      <td>-0.00242</td>\n",
       "      <td>-0.67</td>\n",
       "      <td>0.14</td>\n",
       "      <td>83.1</td>\n",
       "      <td>-1.059</td>\n",
       "    </tr>\n",
       "    <tr>\n",
       "      <th>1</th>\n",
       "      <td>-0.79</td>\n",
       "      <td>-0.39</td>\n",
       "      <td>0.44</td>\n",
       "      <td>0.48</td>\n",
       "      <td>-0.09</td>\n",
       "      <td>0.0</td>\n",
       "      <td>0.0</td>\n",
       "      <td>0.033</td>\n",
       "      <td>-32.1</td>\n",
       "      <td>65</td>\n",
       "      <td>...</td>\n",
       "      <td>0.001528</td>\n",
       "      <td>-0.22435</td>\n",
       "      <td>-0.13454</td>\n",
       "      <td>-0.01798</td>\n",
       "      <td>-0.021</td>\n",
       "      <td>-0.00242</td>\n",
       "      <td>-0.67</td>\n",
       "      <td>0.14</td>\n",
       "      <td>83.1</td>\n",
       "      <td>-1.059</td>\n",
       "    </tr>\n",
       "    <tr>\n",
       "      <th>3</th>\n",
       "      <td>-0.79</td>\n",
       "      <td>-0.39</td>\n",
       "      <td>0.44</td>\n",
       "      <td>0.48</td>\n",
       "      <td>-0.09</td>\n",
       "      <td>0.0</td>\n",
       "      <td>0.0</td>\n",
       "      <td>0.033</td>\n",
       "      <td>-32.1</td>\n",
       "      <td>65</td>\n",
       "      <td>...</td>\n",
       "      <td>0.001528</td>\n",
       "      <td>-0.22435</td>\n",
       "      <td>-0.13454</td>\n",
       "      <td>-0.01798</td>\n",
       "      <td>-0.021</td>\n",
       "      <td>-0.00242</td>\n",
       "      <td>-0.67</td>\n",
       "      <td>0.14</td>\n",
       "      <td>83.1</td>\n",
       "      <td>-1.059</td>\n",
       "    </tr>\n",
       "    <tr>\n",
       "      <th>4</th>\n",
       "      <td>-0.79</td>\n",
       "      <td>-0.39</td>\n",
       "      <td>0.44</td>\n",
       "      <td>0.48</td>\n",
       "      <td>-0.09</td>\n",
       "      <td>0.0</td>\n",
       "      <td>0.0</td>\n",
       "      <td>0.033</td>\n",
       "      <td>-32.1</td>\n",
       "      <td>65</td>\n",
       "      <td>...</td>\n",
       "      <td>0.001528</td>\n",
       "      <td>-0.22435</td>\n",
       "      <td>-0.13454</td>\n",
       "      <td>-0.01798</td>\n",
       "      <td>-0.021</td>\n",
       "      <td>-0.00242</td>\n",
       "      <td>-0.67</td>\n",
       "      <td>0.14</td>\n",
       "      <td>83.1</td>\n",
       "      <td>-1.059</td>\n",
       "    </tr>\n",
       "    <tr>\n",
       "      <th>5</th>\n",
       "      <td>-0.79</td>\n",
       "      <td>-0.39</td>\n",
       "      <td>0.44</td>\n",
       "      <td>0.48</td>\n",
       "      <td>-0.09</td>\n",
       "      <td>0.0</td>\n",
       "      <td>0.0</td>\n",
       "      <td>0.033</td>\n",
       "      <td>-32.1</td>\n",
       "      <td>65</td>\n",
       "      <td>...</td>\n",
       "      <td>0.001528</td>\n",
       "      <td>-0.22435</td>\n",
       "      <td>-0.13454</td>\n",
       "      <td>-0.01798</td>\n",
       "      <td>-0.021</td>\n",
       "      <td>-0.00242</td>\n",
       "      <td>-0.67</td>\n",
       "      <td>0.14</td>\n",
       "      <td>46.0</td>\n",
       "      <td>-1.133</td>\n",
       "    </tr>\n",
       "  </tbody>\n",
       "</table>\n",
       "<p>5 rows × 688 columns</p>\n",
       "</div>"
      ],
      "text/plain": [
       "     F1    F2    F3    F4    F5   F6   F7     F8    F9  F10    ...     \\\n",
       "0 -0.79 -0.39  0.44  0.48 -0.09  0.0  0.0  0.033 -32.1   65    ...      \n",
       "1 -0.79 -0.39  0.44  0.48 -0.09  0.0  0.0  0.033 -32.1   65    ...      \n",
       "3 -0.79 -0.39  0.44  0.48 -0.09  0.0  0.0  0.033 -32.1   65    ...      \n",
       "4 -0.79 -0.39  0.44  0.48 -0.09  0.0  0.0  0.033 -32.1   65    ...      \n",
       "5 -0.79 -0.39  0.44  0.48 -0.09  0.0  0.0  0.033 -32.1   65    ...      \n",
       "\n",
       "       F696     F697     F698     F699   F700     F701  F702  F703   RSA  \\\n",
       "0  0.001528 -0.22435 -0.13454 -0.01798 -0.021 -0.00242 -0.67  0.14  83.1   \n",
       "1  0.001528 -0.22435 -0.13454 -0.01798 -0.021 -0.00242 -0.67  0.14  83.1   \n",
       "3  0.001528 -0.22435 -0.13454 -0.01798 -0.021 -0.00242 -0.67  0.14  83.1   \n",
       "4  0.001528 -0.22435 -0.13454 -0.01798 -0.021 -0.00242 -0.67  0.14  83.1   \n",
       "5  0.001528 -0.22435 -0.13454 -0.01798 -0.021 -0.00242 -0.67  0.14  46.0   \n",
       "\n",
       "   PRED_DDG  \n",
       "0    -1.059  \n",
       "1    -1.059  \n",
       "3    -1.059  \n",
       "4    -1.059  \n",
       "5    -1.133  \n",
       "\n",
       "[5 rows x 688 columns]"
      ]
     },
     "execution_count": 5,
     "metadata": {},
     "output_type": "execute_result"
    }
   ],
   "source": [
    "features_loc = df.iloc[:,10:696]\n",
    "features_glob = df.loc[:,['RSA','PRED_DDG']]\n",
    "features = pd.concat([features_loc,features_glob], axis=1)\n",
    "features.head()"
   ]
  },
  {
   "cell_type": "code",
   "execution_count": 6,
   "metadata": {
    "collapsed": false
   },
   "outputs": [
    {
     "data": {
      "text/plain": [
       "(10631, 688)"
      ]
     },
     "execution_count": 6,
     "metadata": {},
     "output_type": "execute_result"
    }
   ],
   "source": [
    "X = features.values\n",
    "X.shape"
   ]
  },
  {
   "cell_type": "code",
   "execution_count": 7,
   "metadata": {
    "collapsed": false
   },
   "outputs": [
    {
     "data": {
      "text/plain": [
       "(10631,)"
      ]
     },
     "execution_count": 7,
     "metadata": {},
     "output_type": "execute_result"
    }
   ],
   "source": [
    "y.shape"
   ]
  },
  {
   "cell_type": "markdown",
   "metadata": {},
   "source": [
    "### Train and Test Data"
   ]
  },
  {
   "cell_type": "code",
   "execution_count": 8,
   "metadata": {
    "collapsed": false
   },
   "outputs": [],
   "source": [
    "X_train, X_test, y_train, y_test = train_test_split(X, y, test_size=0.3)\n",
    "sc = StandardScaler()\n",
    "sc.fit(X_train)\n",
    "X_train_std = sc.transform(X_train)\n",
    "X_test_std = sc.transform(X_test)"
   ]
  },
  {
   "cell_type": "markdown",
   "metadata": {},
   "source": [
    "### Baseline Predictor"
   ]
  },
  {
   "cell_type": "code",
   "execution_count": 68,
   "metadata": {
    "collapsed": false
   },
   "outputs": [
    {
     "name": "stdout",
     "output_type": "stream",
     "text": [
      "Misclassified samples: 2922\n",
      "Accuracy: 0.08\n"
     ]
    }
   ],
   "source": [
    "dummy = DummyClassifier(strategy='uniform')\n",
    "dummy.fit(X_train_std, y_train)\n",
    "\n",
    "dummy_pred = dummy.predict(X_test_std)\n",
    "print('Misclassified samples: %d' %(dummy_pred != y_test).sum())\n",
    "print('Accuracy: %.2f' %accuracy_score(y_test, dummy_pred))"
   ]
  },
  {
   "cell_type": "code",
   "execution_count": 69,
   "metadata": {
    "collapsed": false
   },
   "outputs": [
    {
     "data": {
      "text/plain": [
       "array([[ 1,  3,  4,  2,  1,  1,  4,  4,  3,  2,  5,  1,  1],\n",
       "       [47, 47, 47, 35, 32, 43, 38, 39, 38, 37, 25, 35, 37],\n",
       "       [15, 21, 34, 20, 13, 14, 16, 21, 20, 27, 28, 18, 18],\n",
       "       [17, 15, 10, 11, 11, 12, 11,  8, 21, 10, 11, 19, 11],\n",
       "       [26, 24, 26, 23, 23, 27, 28, 21, 16, 21, 34, 17, 21],\n",
       "       [ 4,  8, 13,  8,  5,  7,  3, 11,  7,  5,  6,  3,  9],\n",
       "       [ 3,  4,  7,  3,  3,  4,  5,  1,  4,  4,  3,  5,  4],\n",
       "       [17, 16, 13, 17, 15, 22, 13, 24, 23, 24, 16, 18, 28],\n",
       "       [27, 26, 27, 13, 21, 23, 23, 23, 24, 29, 19, 25, 29],\n",
       "       [32, 36, 33, 38, 37, 39, 37, 35, 36, 34, 44, 40, 40],\n",
       "       [52, 47, 38, 50, 39, 39, 41, 50, 43, 34, 42, 38, 37],\n",
       "       [ 0,  0,  0,  1,  0,  1,  0,  0,  1,  1,  0,  0,  1],\n",
       "       [14, 15, 14, 17, 15, 21, 16, 14, 14, 10, 13, 10, 16]])"
      ]
     },
     "execution_count": 69,
     "metadata": {},
     "output_type": "execute_result"
    }
   ],
   "source": [
    "confmat = confusion_matrix(y_true=y_test, y_pred=dummy_pred)\n",
    "confmat"
   ]
  },
  {
   "cell_type": "code",
   "execution_count": 70,
   "metadata": {
    "collapsed": true
   },
   "outputs": [],
   "source": [
    "np.savetxt(\"./Dissertation/data/cm_dummy_random.csv\", confmat, delimiter=\",\")"
   ]
  },
  {
   "cell_type": "code",
   "execution_count": 67,
   "metadata": {
    "collapsed": false
   },
   "outputs": [
    {
     "data": {
      "image/png": "[encoded data removed]",
      "text/plain": [
       "<matplotlib.figure.Figure at 0x11c56f550>"
      ]
     },
     "metadata": {},
     "output_type": "display_data"
    }
   ],
   "source": [
    "cm = confusion_matrix(y_test, dummy_pred)\n",
    "df_cm = pd.DataFrame(cm, \n",
    "                     index = [i for i in range(0,13)], columns = [i for i in range(0,13)])\n",
    "\n",
    "plt.figure(figsize=(5.5,4))\n",
    "sns.heatmap(df_cm, annot=True, fmt='g')\n",
    "\n",
    "plt.title('Baseline: Majority Rule \\nAccuracy:{0:.3f}'.format(accuracy_score(y_test, dummy_pred)))\n",
    "plt.ylabel('True label')\n",
    "plt.xlabel('Predicted label')\n",
    "plt.savefig('./Dissertation/data/cm_dummy_majority.png', dpi=300)"
   ]
  },
  {
   "cell_type": "markdown",
   "metadata": {},
   "source": [
    "### Logistic Regression"
   ]
  },
  {
   "cell_type": "code",
   "execution_count": 10,
   "metadata": {
    "collapsed": false
   },
   "outputs": [
    {
     "name": "stdout",
     "output_type": "stream",
     "text": [
      "Best Accuracy: 0.281\n",
      "{'C': 10}\n",
      "CPU times: user 20min 20s, sys: 3.52 s, total: 20min 24s\n",
      "Wall time: 20min 25s\n"
     ]
    }
   ],
   "source": [
    "%%time\n",
    "\n",
    "# defining a grid of parameters over which to optimize the lr classifier\n",
    "\n",
    "params = [{'C': [1, 10, 100]}]\n",
    "lr = LogisticRegression(n_jobs = -1, penalty='l2')\n",
    "\n",
    "gs_lr = GridSearchCV(lr, params, cv = 5)\n",
    "gs_lr = gs_lr.fit(X_train_std, y_train)\n",
    "\n",
    "print('Best Accuracy: %.3f' %gs_lr.best_score_)\n",
    "print(gs_lr.best_params_)"
   ]
  },
  {
   "cell_type": "code",
   "execution_count": 12,
   "metadata": {
    "collapsed": false
   },
   "outputs": [
    {
     "name": "stdout",
     "output_type": "stream",
     "text": [
      "Misclassified samples: 2289\n",
      "Accuracy: 0.28\n"
     ]
    }
   ],
   "source": [
    "lr_best = gs_lr.best_estimator_\n",
    "lr_best.fit(X_train_std, y_train)\n",
    "lr_pred_best = lr_best.predict(X_test_std)\n",
    "\n",
    "\n",
    "print('Misclassified samples: %d' %(lr_pred_best != y_test).sum())\n",
    "print('Accuracy: %.2f' %accuracy_score(y_test, lr_pred_best))"
   ]
  },
  {
   "cell_type": "code",
   "execution_count": 43,
   "metadata": {
    "collapsed": false
   },
   "outputs": [
    {
     "name": "stdout",
     "output_type": "stream",
     "text": [
      "[[  0   2   0   0   0   0   0  11   0  15   4   0   0]\n",
      " [  4 214   6   0   6   8   0  18  10 128 102   0   4]\n",
      " [  1  73  12   0   8   0   0   5   2  56 106   0   2]\n",
      " [  0  40   1   0   0   0   0   4   1  59  61   0   1]\n",
      " [  0  46  21   0  12   0   0   8   1 101 112   0   6]\n",
      " [  1  58   3   0   0  15   0   2   0   6   4   0   0]\n",
      " [  2  21   0   0   0   0   0   8   1   2  16   0   0]\n",
      " [  0  47   2   0   0   0   0  73   1  31  92   0   0]\n",
      " [  0  71   4   0   0   0   0   2  16 106 109   0   1]\n",
      " [  0  30   8   0   1   0   0   5   2 234 201   0   0]\n",
      " [  1  79   6   0   0   0   0  11   9 124 319   0   1]\n",
      " [  0   1   0   0   0   0   0   0   0   0   0   4   0]\n",
      " [  0  36   3   0   0   0   0  17   0  30 101   0   2]]\n"
     ]
    }
   ],
   "source": [
    "confmat = confusion_matrix(y_true=y_test, y_pred=lr_pred_best)\n",
    "print(confmat)"
   ]
  },
  {
   "cell_type": "code",
   "execution_count": 44,
   "metadata": {
    "collapsed": true
   },
   "outputs": [],
   "source": [
    "np.savetxt(\"./Dissertation/data/cm_lr.csv\", confmat, delimiter=\",\")"
   ]
  },
  {
   "cell_type": "markdown",
   "metadata": {},
   "source": [
    "### Random Forest Classifier"
   ]
  },
  {
   "cell_type": "code",
   "execution_count": 15,
   "metadata": {
    "collapsed": false
   },
   "outputs": [
    {
     "name": "stdout",
     "output_type": "stream",
     "text": [
      "Best Accuracy: 0.200\n",
      "{'oob_score': False, 'max_features': 'auto', 'max_depth': 50, 'n_estimators': 200}\n",
      "CPU times: user 7min 20s, sys: 10.7 s, total: 7min 31s\n",
      "Wall time: 2min 24s\n"
     ]
    }
   ],
   "source": [
    "%%time\n",
    "\n",
    "# GridSearch: defining a grid of parameters over which to optimize the rf classifier\n",
    "\n",
    "params = [{'n_estimators': [100,200], \n",
    "           'max_features': ['auto'], \n",
    "           'max_depth': [30,50], \n",
    "           'oob_score': [True, False]}]\n",
    "rf = RandomForestClassifier(n_jobs = -1)\n",
    "\n",
    "gs_rf = GridSearchCV(rf, params, cv =5)\n",
    "gs_rf = gs_rf.fit(X_train_std, y_train)\n",
    "\n",
    "print('Best Accuracy: %.3f' %gs_rf.best_score_)\n",
    "print(gs_rf.best_params_)"
   ]
  },
  {
   "cell_type": "code",
   "execution_count": 16,
   "metadata": {
    "collapsed": false
   },
   "outputs": [
    {
     "name": "stdout",
     "output_type": "stream",
     "text": [
      "Misclassified samples: 2587\n",
      "Accuracy: 0.19\n"
     ]
    }
   ],
   "source": [
    "rf_best = gs_rf.best_estimator_\n",
    "rf_best.fit(X_train_std, y_train)\n",
    "rf_pred_best = rf_best.predict(X_test_std)\n",
    "\n",
    "\n",
    "print('Misclassified samples: %d' %(rf_pred_best != y_test).sum())\n",
    "print('Accuracy: %.2f' %accuracy_score(y_test, rf_pred_best))"
   ]
  },
  {
   "cell_type": "code",
   "execution_count": 41,
   "metadata": {
    "collapsed": false
   },
   "outputs": [
    {
     "name": "stdout",
     "output_type": "stream",
     "text": [
      "[[ 31   0   0   0   0   0   0   0   0   0   0   0   1]\n",
      " [  0 148  40   8  19   5  10   4  44 110 107   0   5]\n",
      " [  0  50   6   2  24   0   1   2  25  76  73   0   6]\n",
      " [  0  44   7   0   5   0   0   1  18  59  31   0   2]\n",
      " [  0  37  31   1  19   0   0   6  26  96  72   0  19]\n",
      " [  1  44   3   1   1  27   1   1   1   4   5   0   0]\n",
      " [  0  24   4   0   0   0   0   1   0   9  12   0   0]\n",
      " [  0  26   9   0   9   0   1  85   3  54  54   0   5]\n",
      " [  0  73  23   1  17   1   1   0  19 117  54   0   3]\n",
      " [  1  64  29   2  35   0   0  12  55 109 162   0  12]\n",
      " [  0 110  32   0  34   0  14  12  28 180 127   0  13]\n",
      " [  0   1   0   0   0   0   0   0   0   0   0   4   0]\n",
      " [  0  29  15   0   8   0   2   1   7  47  52   0  28]]\n"
     ]
    }
   ],
   "source": [
    "confmat = confusion_matrix(y_true=y_test, y_pred=rf_pred_best)\n",
    "print(confmat)"
   ]
  },
  {
   "cell_type": "code",
   "execution_count": 42,
   "metadata": {
    "collapsed": true
   },
   "outputs": [],
   "source": [
    "np.savetxt(\"./Dissertation/data/cm_rf.csv\", confmat, delimiter=\",\")"
   ]
  },
  {
   "cell_type": "markdown",
   "metadata": {},
   "source": [
    "#### Assessing feature importance with random forests"
   ]
  },
  {
   "cell_type": "code",
   "execution_count": 18,
   "metadata": {
    "collapsed": false
   },
   "outputs": [
    {
     "name": "stdout",
     "output_type": "stream",
     "text": [
      " 1) PRED_DDG                       0.331576\n",
      " 2) RSA                            0.313226\n",
      " 3) F331                           0.003788\n",
      " 4) F587                           0.003506\n",
      " 5) F5                             0.003387\n",
      " 6) F443                           0.003046\n",
      " 7) F593                           0.002771\n",
      " 8) F464                           0.002756\n",
      " 9) F364                           0.002436\n",
      "10) F103                           0.002430\n",
      "11) F402                           0.002399\n",
      "12) F12                            0.002157\n",
      "13) F620                           0.002151\n",
      "14) F611                           0.002114\n",
      "15) F273                           0.002090\n",
      "16) F41                            0.001845\n",
      "17) F461                           0.001844\n",
      "18) F340                           0.001751\n",
      "19) F516                           0.001745\n",
      "20) F115                           0.001737\n",
      "21) F681                           0.001677\n",
      "22) F362                           0.001657\n",
      "23) F392                           0.001605\n",
      "24) F23                            0.001582\n",
      "25) F163                           0.001574\n",
      "26) F434                           0.001530\n",
      "27) F302                           0.001529\n",
      "28) F409                           0.001508\n",
      "29) F519                           0.001400\n",
      "30) F188                           0.001350\n",
      "31) F223                           0.001335\n",
      "32) F357                           0.001329\n",
      "33) F460                           0.001325\n",
      "34) F588                           0.001319\n",
      "35) F74                            0.001268\n",
      "36) F672                           0.001258\n",
      "37) F141                           0.001252\n",
      "38) F60                            0.001240\n",
      "39) F462                           0.001198\n",
      "40) F190                           0.001194\n",
      "41) F529                           0.001187\n",
      "42) F528                           0.001182\n",
      "43) F253                           0.001169\n",
      "44) F689                           0.001159\n",
      "45) F17                            0.001133\n",
      "46) F667                           0.001123\n",
      "47) F207                           0.001120\n",
      "48) F280                           0.001101\n",
      "49) F675                           0.001099\n",
      "50) F261                           0.001096\n",
      "51) F431                           0.001080\n",
      "52) F491                           0.001055\n",
      "53) F25                            0.001048\n",
      "54) F73                            0.001041\n",
      "55) F144                           0.001037\n",
      "56) F490                           0.001034\n",
      "57) F421                           0.001029\n",
      "58) F676                           0.001018\n",
      "59) F283                           0.001015\n",
      "60) F221                           0.001000\n",
      "61) F696                           0.000997\n",
      "62) F442                           0.000985\n",
      "63) F616                           0.000984\n",
      "64) F226                           0.000978\n",
      "65) F688                           0.000968\n",
      "66) F625                           0.000950\n",
      "67) F638                           0.000947\n",
      "68) F101                           0.000945\n",
      "69) F420                           0.000944\n",
      "70) F76                            0.000941\n",
      "71) F680                           0.000941\n",
      "72) F664                           0.000937\n",
      "73) F505                           0.000932\n",
      "74) F555                           0.000930\n",
      "75) F658                           0.000915\n",
      "76) F38                            0.000913\n",
      "77) F703                           0.000906\n",
      "78) F601                           0.000905\n",
      "79) F401                           0.000905\n",
      "80) F176                           0.000889\n",
      "81) F220                           0.000877\n",
      "82) F695                           0.000873\n",
      "83) F367                           0.000872\n",
      "84) F222                           0.000866\n",
      "85) F138                           0.000859\n",
      "86) F198                           0.000857\n",
      "87) F678                           0.000855\n",
      "88) F635                           0.000844\n",
      "89) F393                           0.000843\n",
      "90) F125                           0.000843\n",
      "91) F177                           0.000827\n",
      "92) F251                           0.000826\n",
      "93) F186                           0.000824\n",
      "94) F258                           0.000822\n",
      "95) F46                            0.000820\n",
      "96) F395                           0.000815\n",
      "97) F260                           0.000814\n",
      "98) F231                           0.000812\n",
      "99) F275                           0.000805\n",
      "100) F306                           0.000790\n",
      "101) F513                           0.000789\n",
      "102) F155                           0.000785\n",
      "103) F203                           0.000783\n",
      "104) F366                           0.000779\n",
      "105) F161                           0.000779\n",
      "106) F102                           0.000779\n",
      "107) F344                           0.000777\n",
      "108) F661                           0.000775\n",
      "109) F315                           0.000758\n",
      "110) F327                           0.000756\n",
      "111) F4                             0.000756\n",
      "112) F133                           0.000751\n",
      "113) F498                           0.000739\n",
      "114) F325                           0.000738\n",
      "115) F61                            0.000735\n",
      "116) F408                           0.000734\n",
      "117) F554                           0.000733\n",
      "118) F304                           0.000719\n",
      "119) F426                           0.000717\n",
      "120) F673                           0.000714\n",
      "121) F39                            0.000700\n",
      "122) F379                           0.000698\n",
      "123) F209                           0.000693\n",
      "124) F394                           0.000693\n",
      "125) F48                            0.000693\n",
      "126) F649                           0.000691\n",
      "127) F242                           0.000685\n",
      "128) F572                           0.000684\n",
      "129) F69                            0.000680\n",
      "130) F338                           0.000679\n",
      "131) F595                           0.000679\n",
      "132) F232                           0.000678\n",
      "133) F602                           0.000676\n",
      "134) F452                           0.000674\n",
      "135) F343                           0.000674\n",
      "136) F612                           0.000671\n",
      "137) F472                           0.000670\n",
      "138) F311                           0.000669\n",
      "139) F410                           0.000668\n",
      "140) F335                           0.000668\n",
      "141) F200                           0.000667\n",
      "142) F246                           0.000665\n",
      "143) F383                           0.000665\n",
      "144) F259                           0.000664\n",
      "145) F187                           0.000661\n",
      "146) F111                           0.000661\n",
      "147) F85                            0.000660\n",
      "148) F488                           0.000651\n",
      "149) F262                           0.000647\n",
      "150) F42                            0.000646\n",
      "151) F470                           0.000645\n",
      "152) F248                           0.000644\n",
      "153) F164                           0.000641\n",
      "154) F655                           0.000640\n",
      "155) F36                            0.000640\n",
      "156) F295                           0.000639\n",
      "157) F254                           0.000638\n",
      "158) F564                           0.000637\n",
      "159) F55                            0.000637\n",
      "160) F292                           0.000633\n",
      "161) F52                            0.000629\n",
      "162) F172                           0.000629\n",
      "163) F627                           0.000626\n",
      "164) F566                           0.000625\n",
      "165) F1                             0.000624\n",
      "166) F299                           0.000624\n",
      "167) F57                            0.000624\n",
      "168) F196                           0.000618\n",
      "169) F385                           0.000616\n",
      "170) F657                           0.000616\n",
      "171) F427                           0.000615\n",
      "172) F437                           0.000615\n",
      "173) F687                           0.000612\n",
      "174) F578                           0.000611\n",
      "175) F447                           0.000605\n",
      "176) F247                           0.000605\n",
      "177) F84                            0.000604\n",
      "178) F135                           0.000602\n",
      "179) F700                           0.000601\n",
      "180) F382                           0.000599\n",
      "181) F152                           0.000596\n",
      "182) F99                            0.000595\n",
      "183) F294                           0.000595\n",
      "184) F671                           0.000594\n",
      "185) F489                           0.000594\n",
      "186) F14                            0.000594\n",
      "187) F142                           0.000594\n",
      "188) F397                           0.000590\n",
      "189) F8                             0.000588\n",
      "190) F59                            0.000587\n",
      "191) F467                           0.000584\n",
      "192) F182                           0.000582\n",
      "193) F647                           0.000581\n",
      "194) F241                           0.000580\n",
      "195) F193                           0.000580\n",
      "196) F192                           0.000579\n",
      "197) F351                           0.000579\n",
      "198) F570                           0.000577\n",
      "199) F166                           0.000577\n",
      "200) F439                           0.000576\n",
      "201) F224                           0.000574\n",
      "202) F605                           0.000571\n",
      "203) F698                           0.000569\n",
      "204) F281                           0.000568\n",
      "205) F411                           0.000568\n",
      "206) F542                           0.000567\n",
      "207) F216                           0.000564\n",
      "208) F100                           0.000563\n",
      "209) F250                           0.000562\n",
      "210) F90                            0.000560\n",
      "211) F219                           0.000560\n",
      "212) F225                           0.000558\n",
      "213) F466                           0.000558\n",
      "214) F167                           0.000557\n",
      "215) F303                           0.000556\n",
      "216) F404                           0.000555\n",
      "217) F114                           0.000550\n",
      "218) F459                           0.000547\n",
      "219) F110                           0.000546\n",
      "220) F445                           0.000544\n",
      "221) F244                           0.000538\n",
      "222) F208                           0.000535\n",
      "223) F440                           0.000534\n",
      "224) F184                           0.000531\n",
      "225) F309                           0.000528\n",
      "226) F615                           0.000527\n",
      "227) F206                           0.000524\n",
      "228) F160                           0.000518\n",
      "229) F526                           0.000518\n",
      "230) F289                           0.000517\n",
      "231) F511                           0.000517\n",
      "232) F75                            0.000516\n",
      "233) F497                           0.000513\n",
      "234) F353                           0.000513\n",
      "235) F286                           0.000512\n",
      "236) F19                            0.000511\n",
      "237) F56                            0.000510\n",
      "238) F378                           0.000509\n",
      "239) F386                           0.000508\n",
      "240) F665                           0.000508\n",
      "241) F234                           0.000508\n",
      "242) F540                           0.000506\n",
      "243) F499                           0.000505\n",
      "244) F148                           0.000503\n",
      "245) F422                           0.000501\n",
      "246) F278                           0.000500\n",
      "247) F563                           0.000500\n",
      "248) F486                           0.000499\n",
      "249) F561                           0.000498\n",
      "250) F263                           0.000498\n",
      "251) F210                           0.000497\n",
      "252) F147                           0.000496\n",
      "253) F124                           0.000496\n",
      "254) F500                           0.000496\n",
      "255) F337                           0.000495\n",
      "256) F677                           0.000494\n",
      "257) F45                            0.000494\n",
      "258) F532                           0.000494\n",
      "259) F284                           0.000493\n",
      "260) F356                           0.000493\n",
      "261) F520                           0.000490\n",
      "262) F417                           0.000490\n",
      "263) F154                           0.000489\n",
      "264) F679                           0.000488\n",
      "265) F20                            0.000488\n",
      "266) F358                           0.000487\n",
      "267) F438                           0.000486\n",
      "268) F62                            0.000485\n",
      "269) F685                           0.000481\n",
      "270) F697                           0.000481\n",
      "271) F668                           0.000479\n",
      "272) F9                             0.000478\n",
      "273) F285                           0.000478\n",
      "274) F252                           0.000475\n",
      "275) F173                           0.000472\n",
      "276) F418                           0.000472\n",
      "277) F243                           0.000472\n",
      "278) F332                           0.000472\n",
      "279) F428                           0.000468\n",
      "280) F168                           0.000465\n",
      "281) F264                           0.000464\n",
      "282) F94                            0.000464\n",
      "283) F341                           0.000464\n",
      "284) F58                            0.000464\n",
      "285) F626                           0.000462\n",
      "286) F506                           0.000462\n",
      "287) F153                           0.000462\n",
      "288) F644                           0.000461\n",
      "289) F582                           0.000461\n",
      "290) F191                           0.000459\n",
      "291) F453                           0.000458\n",
      "292) F509                           0.000457\n",
      "293) F282                           0.000457\n",
      "294) F119                           0.000456\n",
      "295) F324                           0.000455\n",
      "296) F301                           0.000453\n",
      "297) F594                           0.000453\n",
      "298) F201                           0.000452\n",
      "299) F80                            0.000452\n",
      "300) F257                           0.000452\n",
      "301) F202                           0.000451\n",
      "302) F113                           0.000450\n",
      "303) F205                           0.000449\n",
      "304) F504                           0.000449\n",
      "305) F277                           0.000445\n",
      "306) F416                           0.000444\n",
      "307) F215                           0.000443\n",
      "308) F274                           0.000442\n",
      "309) F330                           0.000442\n",
      "310) F674                           0.000439\n",
      "311) F493                           0.000439\n",
      "312) F591                           0.000438\n",
      "313) F109                           0.000437\n",
      "314) F97                            0.000433\n",
      "315) F403                           0.000432\n",
      "316) F691                           0.000429\n",
      "317) F235                           0.000426\n",
      "318) F666                           0.000426\n",
      "319) F159                           0.000426\n",
      "320) F412                           0.000425\n",
      "321) F507                           0.000422\n",
      "322) F457                           0.000421\n",
      "323) F233                           0.000421\n",
      "324) F589                           0.000421\n",
      "325) F24                            0.000420\n",
      "326) F189                           0.000419\n",
      "327) F96                            0.000418\n",
      "328) F522                           0.000418\n",
      "329) F271                           0.000417\n",
      "330) F143                           0.000417\n",
      "331) F312                           0.000415\n",
      "332) F425                           0.000414\n",
      "333) F623                           0.000411\n",
      "334) F291                           0.000410\n",
      "335) F653                           0.000410\n",
      "336) F518                           0.000410\n",
      "337) F407                           0.000407\n",
      "338) F185                           0.000407\n",
      "339) F348                           0.000406\n",
      "340) F609                           0.000404\n",
      "341) F607                           0.000404\n",
      "342) F165                           0.000403\n",
      "343) F34                            0.000403\n",
      "344) F50                            0.000401\n",
      "345) F149                           0.000401\n",
      "346) F116                           0.000401\n",
      "347) F204                           0.000400\n",
      "348) F140                           0.000400\n",
      "349) F319                           0.000400\n",
      "350) F66                            0.000399\n",
      "351) F539                           0.000397\n",
      "352) F296                           0.000397\n",
      "353) F492                           0.000396\n",
      "354) F171                           0.000394\n",
      "355) F183                           0.000393\n",
      "356) F107                           0.000392\n",
      "357) F359                           0.000391\n",
      "358) F503                           0.000391\n",
      "359) F347                           0.000391\n",
      "360) F287                           0.000390\n",
      "361) F361                           0.000390\n",
      "362) F145                           0.000390\n",
      "363) F533                           0.000389\n",
      "364) F98                            0.000388\n",
      "365) F51                            0.000388\n",
      "366) F95                            0.000382\n",
      "367) F175                           0.000382\n",
      "368) F628                           0.000382\n",
      "369) F544                           0.000380\n",
      "370) F455                           0.000380\n",
      "371) F3                             0.000378\n",
      "372) F181                           0.000377\n",
      "373) F369                           0.000377\n",
      "374) F317                           0.000376\n",
      "375) F316                           0.000374\n",
      "376) F415                           0.000374\n",
      "377) F11                            0.000374\n",
      "378) F67                            0.000371\n",
      "379) F562                           0.000371\n",
      "380) F430                           0.000370\n",
      "381) F429                           0.000368\n",
      "382) F496                           0.000368\n",
      "383) F414                           0.000367\n",
      "384) F682                           0.000367\n",
      "385) F126                           0.000365\n",
      "386) F436                           0.000364\n",
      "387) F632                           0.000364\n",
      "388) F510                           0.000363\n",
      "389) F396                           0.000362\n",
      "390) F139                           0.000362\n",
      "391) F178                           0.000362\n",
      "392) F121                           0.000360\n",
      "393) F581                           0.000358\n",
      "394) F355                           0.000358\n",
      "395) F621                           0.000356\n",
      "396) F127                           0.000355\n",
      "397) F194                           0.000355\n",
      "398) F265                           0.000355\n",
      "399) F541                           0.000354\n",
      "400) F619                           0.000354\n",
      "401) F238                           0.000353\n",
      "402) F21                            0.000353\n",
      "403) F451                           0.000352\n",
      "404) F495                           0.000350\n",
      "405) F245                           0.000349\n",
      "406) F531                           0.000349\n",
      "407) F645                           0.000349\n",
      "408) F652                           0.000348\n",
      "409) F599                           0.000347\n",
      "410) F701                           0.000347\n",
      "411) F298                           0.000347\n",
      "412) F213                           0.000347\n",
      "413) F323                           0.000345\n",
      "414) F169                           0.000345\n",
      "415) F624                           0.000344\n",
      "416) F108                           0.000344\n",
      "417) F471                           0.000344\n",
      "418) F484                           0.000344\n",
      "419) F454                           0.000343\n",
      "420) F387                           0.000343\n",
      "421) F501                           0.000342\n",
      "422) F352                           0.000342\n",
      "423) F320                           0.000342\n",
      "424) F78                            0.000341\n",
      "425) F267                           0.000340\n",
      "426) F618                           0.000339\n",
      "427) F424                           0.000338\n",
      "428) F123                           0.000338\n",
      "429) F35                            0.000334\n",
      "430) F389                           0.000334\n",
      "431) F300                           0.000334\n",
      "432) F268                           0.000334\n",
      "433) F388                           0.000333\n",
      "434) F199                           0.000332\n",
      "435) F305                           0.000332\n",
      "436) F120                           0.000331\n",
      "437) F321                           0.000331\n",
      "438) F15                            0.000330\n",
      "439) F106                           0.000330\n",
      "440) F458                           0.000329\n",
      "441) F329                           0.000329\n",
      "442) F523                           0.000328\n",
      "443) F65                            0.000327\n",
      "444) F543                           0.000327\n",
      "445) F162                           0.000327\n",
      "446) F314                           0.000326\n",
      "447) F53                            0.000325\n",
      "448) F448                           0.000324\n",
      "449) F132                           0.000323\n",
      "450) F373                           0.000323\n",
      "451) F92                            0.000322\n",
      "452) F342                           0.000322\n",
      "453) F37                            0.000321\n",
      "454) F590                           0.000321\n",
      "455) F604                           0.000320\n",
      "456) F180                           0.000320\n",
      "457) F339                           0.000319\n",
      "458) F44                            0.000319\n",
      "459) F276                           0.000319\n",
      "460) F333                           0.000319\n",
      "461) F446                           0.000318\n",
      "462) F328                           0.000318\n",
      "463) F33                            0.000318\n",
      "464) F131                           0.000317\n",
      "465) F699                           0.000314\n",
      "466) F297                           0.000313\n",
      "467) F670                           0.000313\n",
      "468) F377                           0.000312\n",
      "469) F249                           0.000310\n",
      "470) F391                           0.000310\n",
      "471) F195                           0.000309\n",
      "472) F405                           0.000307\n",
      "473) F508                           0.000307\n",
      "474) F371                           0.000304\n",
      "475) F272                           0.000304\n",
      "476) F598                           0.000304\n",
      "477) F515                           0.000303\n",
      "478) F567                           0.000303\n",
      "479) F432                           0.000303\n",
      "480) F545                           0.000303\n",
      "481) F266                           0.000302\n",
      "482) F398                           0.000301\n",
      "483) F692                           0.000301\n",
      "484) F105                           0.000301\n",
      "485) F16                            0.000300\n",
      "486) F485                           0.000299\n",
      "487) F465                           0.000297\n",
      "488) F217                           0.000296\n",
      "489) F576                           0.000296\n",
      "490) F610                           0.000295\n",
      "491) F310                           0.000295\n",
      "492) F702                           0.000295\n",
      "493) F122                           0.000293\n",
      "494) F256                           0.000293\n",
      "495) F468                           0.000292\n",
      "496) F534                           0.000290\n",
      "497) F77                            0.000290\n",
      "498) F557                           0.000290\n",
      "499) F157                           0.000289\n",
      "500) F197                           0.000288\n",
      "501) F146                           0.000288\n",
      "502) F547                           0.000287\n",
      "503) F553                           0.000287\n",
      "504) F433                           0.000287\n",
      "505) F179                           0.000286\n",
      "506) F656                           0.000285\n",
      "507) F269                           0.000285\n",
      "508) F660                           0.000284\n",
      "509) F694                           0.000284\n",
      "510) F229                           0.000284\n",
      "511) F548                           0.000283\n",
      "512) F345                           0.000283\n",
      "513) F129                           0.000279\n",
      "514) F444                           0.000279\n",
      "515) F227                           0.000279\n",
      "516) F390                           0.000278\n",
      "517) F538                           0.000278\n",
      "518) F551                           0.000276\n",
      "519) F646                           0.000276\n",
      "520) F662                           0.000276\n",
      "521) F654                           0.000275\n",
      "522) F530                           0.000274\n",
      "523) F112                           0.000273\n",
      "524) F651                           0.000273\n",
      "525) F456                           0.000273\n",
      "526) F13                            0.000272\n",
      "527) F571                           0.000272\n",
      "528) F637                           0.000272\n",
      "529) F469                           0.000269\n",
      "530) F279                           0.000269\n",
      "531) F579                           0.000269\n",
      "532) F68                            0.000268\n",
      "533) F659                           0.000268\n",
      "534) F18                            0.000266\n",
      "535) F399                           0.000266\n",
      "536) F642                           0.000263\n",
      "537) F643                           0.000263\n",
      "538) F574                           0.000261\n",
      "539) F603                           0.000258\n",
      "540) F40                            0.000258\n",
      "541) F375                           0.000258\n",
      "542) F54                            0.000257\n",
      "543) F622                           0.000257\n",
      "544) F631                           0.000257\n",
      "545) F419                           0.000256\n",
      "546) F569                           0.000256\n",
      "547) F556                           0.000256\n",
      "548) F512                           0.000255\n",
      "549) F322                           0.000255\n",
      "550) F423                           0.000253\n",
      "551) F650                           0.000251\n",
      "552) F290                           0.000250\n",
      "553) F549                           0.000250\n",
      "554) F237                           0.000249\n",
      "555) F596                           0.000248\n",
      "556) F463                           0.000247\n",
      "557) F79                            0.000247\n",
      "558) F565                           0.000247\n",
      "559) F370                           0.000245\n",
      "560) F7                             0.000245\n",
      "561) F2                             0.000244\n",
      "562) F537                           0.000241\n",
      "563) F365                           0.000238\n",
      "564) F104                           0.000238\n",
      "565) F381                           0.000237\n",
      "566) F64                            0.000237\n",
      "567) F150                           0.000235\n",
      "568) F449                           0.000235\n",
      "569) F156                           0.000235\n",
      "570) F236                           0.000234\n",
      "571) F349                           0.000234\n",
      "572) F559                           0.000234\n",
      "573) F583                           0.000233\n",
      "574) F648                           0.000231\n",
      "575) F636                           0.000230\n",
      "576) F360                           0.000229\n",
      "577) F669                           0.000228\n",
      "578) F43                            0.000228\n",
      "579) F577                           0.000227\n",
      "580) F134                           0.000227\n",
      "581) F10                            0.000225\n",
      "582) F230                           0.000224\n",
      "583) F170                           0.000224\n",
      "584) F575                           0.000223\n",
      "585) F517                           0.000221\n",
      "586) F614                           0.000220\n",
      "587) F239                           0.000219\n",
      "588) F87                            0.000219\n",
      "589) F91                            0.000218\n",
      "590) F617                           0.000215\n",
      "591) F313                           0.000214\n",
      "592) F629                           0.000213\n",
      "593) F558                           0.000212\n",
      "594) F334                           0.000212\n",
      "595) F487                           0.000211\n",
      "596) F450                           0.000211\n",
      "597) F47                            0.000210\n",
      "598) F693                           0.000209\n",
      "599) F372                           0.000207\n",
      "600) F137                           0.000206\n",
      "601) F376                           0.000205\n",
      "602) F634                           0.000201\n",
      "603) F70                            0.000201\n",
      "604) F228                           0.000199\n",
      "605) F212                           0.000199\n",
      "606) F326                           0.000198\n",
      "607) F630                           0.000196\n",
      "608) F573                           0.000195\n",
      "609) F136                           0.000194\n",
      "610) F494                           0.000194\n",
      "611) F32                            0.000194\n",
      "612) F568                           0.000193\n",
      "613) F441                           0.000191\n",
      "614) F174                           0.000190\n",
      "615) F336                           0.000190\n",
      "616) F350                           0.000190\n",
      "617) F151                           0.000189\n",
      "618) F368                           0.000187\n",
      "619) F72                            0.000187\n",
      "620) F374                           0.000186\n",
      "621) F22                            0.000186\n",
      "622) F514                           0.000185\n",
      "623) F639                           0.000185\n",
      "624) F293                           0.000185\n",
      "625) F71                            0.000182\n",
      "626) F552                           0.000181\n",
      "627) F118                           0.000178\n",
      "628) F435                           0.000178\n",
      "629) F400                           0.000177\n",
      "630) F592                           0.000176\n",
      "631) F26                            0.000176\n",
      "632) F240                           0.000175\n",
      "633) F117                           0.000175\n",
      "634) F214                           0.000175\n",
      "635) F483                           0.000172\n",
      "636) F384                           0.000171\n",
      "637) F255                           0.000171\n",
      "638) F346                           0.000169\n",
      "639) F307                           0.000165\n",
      "640) F413                           0.000164\n",
      "641) F613                           0.000164\n",
      "642) F158                           0.000160\n",
      "643) F211                           0.000152\n",
      "644) F608                           0.000150\n",
      "645) F502                           0.000150\n",
      "646) F288                           0.000149\n",
      "647) F49                            0.000149\n",
      "648) F560                           0.000149\n",
      "649) F29                            0.000147\n",
      "650) F128                           0.000147\n",
      "651) F218                           0.000147\n",
      "652) F606                           0.000142\n",
      "653) F527                           0.000142\n",
      "654) F81                            0.000141\n",
      "655) F641                           0.000140\n",
      "656) F363                           0.000140\n",
      "657) F586                           0.000138\n",
      "658) F550                           0.000132\n",
      "659) F536                           0.000131\n",
      "660) F130                           0.000128\n",
      "661) F270                           0.000127\n",
      "662) F580                           0.000126\n",
      "663) F6                             0.000123\n",
      "664) F308                           0.000112\n",
      "665) F63                            0.000111\n",
      "666) F690                           0.000110\n",
      "667) F546                           0.000109\n",
      "668) F535                           0.000109\n",
      "669) F89                            0.000109\n",
      "670) F585                           0.000104\n",
      "671) F584                           0.000100\n",
      "672) F354                           0.000099\n",
      "673) F318                           0.000094\n",
      "674) F406                           0.000091\n",
      "675) F600                           0.000085\n",
      "676) F633                           0.000079\n",
      "677) F597                           0.000079\n",
      "678) F28                            0.000074\n",
      "679) F83                            0.000073\n",
      "680) F82                            0.000068\n",
      "681) F31                            0.000068\n",
      "682) F93                            0.000067\n",
      "683) F88                            0.000065\n",
      "684) F380                           0.000062\n",
      "685) F86                            0.000061\n",
      "686) F640                           0.000060\n",
      "687) F27                            0.000056\n",
      "688) F30                            0.000034\n"
     ]
    }
   ],
   "source": [
    "feat_labels = features.columns\n",
    "\n",
    "importances = rf_best.feature_importances_\n",
    "indices = np.argsort(importances)[::-1]\n",
    "for f in range(X_train.shape[1]):\n",
    "    print(\"%2d) %-*s %f\" % (f + 1, 30, feat_labels[indices[f]], importances[indices[f]]))"
   ]
  },
  {
   "cell_type": "code",
   "execution_count": 19,
   "metadata": {
    "collapsed": false
   },
   "outputs": [
    {
     "data": {
      "image/png": "[encoded data removed]",
      "text/plain": [
       "<matplotlib.figure.Figure at 0x111cf84a8>"
      ]
     },
     "metadata": {},
     "output_type": "display_data"
    }
   ],
   "source": [
    "plt.bar(range(10),\n",
    "       importances[indices[:10]],\n",
    "       color='pink',\n",
    "       align='center')\n",
    "plt.xticks(range(10),\n",
    "          feat_labels[indices[:10]],\n",
    "          rotation=90)\n",
    "plt.xlim([-1, 10])\n",
    "plt.tight_layout()\n",
    "plt.savefig('./Dissertation/data/variable_importance_rf.png', dpi=300)\n",
    "plt.show()"
   ]
  },
  {
   "cell_type": "markdown",
   "metadata": {},
   "source": [
    "#### PRED_DDG and RSA are the most discriminative features in the dataset."
   ]
  },
  {
   "cell_type": "markdown",
   "metadata": {},
   "source": [
    "### KNN"
   ]
  },
  {
   "cell_type": "code",
   "execution_count": 20,
   "metadata": {
    "collapsed": false
   },
   "outputs": [
    {
     "name": "stdout",
     "output_type": "stream",
     "text": [
      "Best Accuracy: 0.255\n",
      "{'weights': 'uniform', 'n_jobs': -1, 'n_neighbors': 20}\n",
      "CPU times: user 7min 3s, sys: 1.49 s, total: 7min 4s\n",
      "Wall time: 1min 59s\n"
     ]
    }
   ],
   "source": [
    "%%time\n",
    "\n",
    "# GridSearch: defining a grid of parameters over which to optimize the knn classifier\n",
    "\n",
    "params = [{'n_neighbors': [5, 10, 20], \n",
    "           'weights': ['uniform', 'distance'],  \n",
    "           'n_jobs': [-1]}]\n",
    "clf = KNeighborsClassifier(n_jobs = -1)\n",
    "\n",
    "gs = GridSearchCV(clf, params, cv =5)\n",
    "gs = gs.fit(X_train_std, y_train)\n",
    "\n",
    "print('Best Accuracy: %.3f' %gs.best_score_)\n",
    "print(gs.best_params_)"
   ]
  },
  {
   "cell_type": "code",
   "execution_count": 21,
   "metadata": {
    "collapsed": false
   },
   "outputs": [
    {
     "name": "stdout",
     "output_type": "stream",
     "text": [
      "Misclassified samples: 2392\n",
      "Accuracy: 0.25\n"
     ]
    }
   ],
   "source": [
    "knn_best = gs.best_estimator_\n",
    "knn_best.fit(X_train_std, y_train)\n",
    "knn_pred_best = knn_best.predict(X_test_std)\n",
    "\n",
    "\n",
    "print('Misclassified samples: %d' %(knn_pred_best != y_test).sum())\n",
    "print('Accuracy: %.2f' %accuracy_score(y_test, knn_pred_best))"
   ]
  },
  {
   "cell_type": "code",
   "execution_count": 36,
   "metadata": {
    "collapsed": false
   },
   "outputs": [
    {
     "name": "stdout",
     "output_type": "stream",
     "text": [
      "[[ 24   0   0   0   0   0   1   4   0   2   0   0   1]\n",
      " [  4 229  36   0   8   5   3   8  33 113  61   0   0]\n",
      " [  1  77  17   0  13   1   0   3  12  88  51   0   2]\n",
      " [  0  56   4   0   5   1   0   1  10  68  21   0   1]\n",
      " [  1  46  32   0  23   1   0   6  20 116  56   0   6]\n",
      " [  1  51   3   0   0  24   0   0   0   4   6   0   0]\n",
      " [  3  20   3   0   0   0   2   2   1   9  10   0   0]\n",
      " [  2  29   5   0   6   1   0  89   5  65  43   0   1]\n",
      " [  1  90  18   0  10   0   0   2  17 121  47   0   3]\n",
      " [  3  85  20   0  22   1   0   7  31 185 123   0   4]\n",
      " [  1 115  22   0  21   2   3   5  23 184 170   0   4]\n",
      " [  0   1   0   0   0   0   0   0   0   0   0   4   0]\n",
      " [  0  38  11   0  12   0   0   7   8  58  41   0  14]]\n"
     ]
    }
   ],
   "source": [
    "confmat = confusion_matrix(y_true=y_test, y_pred=knn_pred_best)\n",
    "print(confmat)"
   ]
  },
  {
   "cell_type": "code",
   "execution_count": 39,
   "metadata": {
    "collapsed": false
   },
   "outputs": [],
   "source": [
    "np.savetxt(\"./Dissertation/data/cm_knn.csv\", confmat, delimiter=\",\")"
   ]
  },
  {
   "cell_type": "code",
   "execution_count": null,
   "metadata": {
    "collapsed": true
   },
   "outputs": [],
   "source": []
  },
  {
   "cell_type": "markdown",
   "metadata": {},
   "source": [
    "### Precision and Recall"
   ]
  },
  {
   "cell_type": "code",
   "execution_count": 46,
   "metadata": {
    "collapsed": false
   },
   "outputs": [
    {
     "data": {
      "image/png": "[encoded data removed]",
      "text/plain": [
       "<matplotlib.figure.Figure at 0x119e9cdd8>"
      ]
     },
     "metadata": {},
     "output_type": "display_data"
    }
   ],
   "source": [
    "cm = confusion_matrix(y_test, lr_pred_best)\n",
    "df_cm = pd.DataFrame(cm, \n",
    "                     index = [i for i in range(0,13)], columns = [i for i in range(0,13)])\n",
    "\n",
    "plt.figure(figsize=(5.5,4))\n",
    "sns.heatmap(df_cm, annot=True, fmt='g')\n",
    "\n",
    "plt.title('Logistic Regression \\nAccuracy:{0:.3f}'.format(accuracy_score(y_test, lr_pred_best)))\n",
    "plt.ylabel('True label')\n",
    "plt.xlabel('Predicted label')\n",
    "plt.savefig('./Dissertation/data/cm_multi_lr.png', dpi=300)"
   ]
  },
  {
   "cell_type": "code",
   "execution_count": 34,
   "metadata": {
    "collapsed": false
   },
   "outputs": [
    {
     "data": {
      "image/png": "[encoded data removed]",
      "text/plain": [
       "<matplotlib.figure.Figure at 0x1196934a8>"
      ]
     },
     "metadata": {},
     "output_type": "display_data"
    }
   ],
   "source": [
    "cm = confusion_matrix(y_test, knn_pred_best)\n",
    "df_cm = pd.DataFrame(cm, \n",
    "                     index = [i for i in range(0,13)], columns = [i for i in range(0,13)])\n",
    "\n",
    "plt.figure(figsize=(5.5,4))\n",
    "sns.heatmap(df_cm, annot=True, fmt='g')\n",
    "\n",
    "plt.title('KNN \\nAccuracy:{0:.3f}'.format(accuracy_score(y_test, knn_pred_best)))\n",
    "plt.ylabel('True label')\n",
    "plt.xlabel('Predicted label')\n",
    "plt.savefig('./Dissertation/data/cm_multi_knn.png', dpi=300)"
   ]
  },
  {
   "cell_type": "code",
   "execution_count": 35,
   "metadata": {
    "collapsed": false
   },
   "outputs": [
    {
     "data": {
      "image/png": "[encoded data removed]",
      "text/plain": [
       "<matplotlib.figure.Figure at 0x119d1a358>"
      ]
     },
     "metadata": {},
     "output_type": "display_data"
    }
   ],
   "source": [
    "cm = confusion_matrix(y_test, rf_pred_best)\n",
    "df_cm = pd.DataFrame(cm, \n",
    "                     index = [i for i in range(0,13)], columns = [i for i in range(0,13)])\n",
    "\n",
    "plt.figure(figsize=(5.5,4))\n",
    "sns.heatmap(df_cm, annot=True, fmt='g')\n",
    "\n",
    "plt.title('Random Forest \\nAccuracy:{0:.3f}'.format(accuracy_score(y_test, rf_pred_best)))\n",
    "plt.ylabel('True label')\n",
    "plt.xlabel('Predicted label')\n",
    "plt.savefig('./Dissertation/data/cm_multi_rf.png', dpi=300)"
   ]
  },
  {
   "cell_type": "code",
   "execution_count": null,
   "metadata": {
    "collapsed": true
   },
   "outputs": [],
   "source": []
  }
 ],
 "metadata": {
  "anaconda-cloud": {},
  "kernelspec": {
   "display_name": "Python [conda root]",
   "language": "python",
   "name": "conda-root-py"
  },
  "language_info": {
   "codemirror_mode": {
    "name": "ipython",
    "version": 3
   },
   "file_extension": ".py",
   "mimetype": "text/x-python",
   "name": "python",
   "nbconvert_exporter": "python",
   "pygments_lexer": "ipython3",
   "version": "3.5.2"
  }
 },
 "nbformat": 4,
 "nbformat_minor": 1
}
