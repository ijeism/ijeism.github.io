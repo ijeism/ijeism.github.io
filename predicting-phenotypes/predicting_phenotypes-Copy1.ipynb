{
 "cells": [
  {
   "cell_type": "code",
   "execution_count": 23,
   "metadata": {
    "collapsed": true
   },
   "outputs": [],
   "source": [
    "# Configure libraries\n",
    "\n",
    "import numpy as np\n",
    "import pandas as pd\n",
    "import math\n",
    "\n",
    "import matplotlib.pyplot as plt\n",
    "import seaborn as sns\n",
    "\n",
    "from sklearn.model_selection import train_test_split\n",
    "from sklearn.model_selection import cross_val_score\n",
    "from sklearn.model_selection import GridSearchCV\n",
    "from sklearn import metrics\n",
    "from sklearn.preprocessing import StandardScaler\n",
    "from sklearn.metrics import accuracy_score\n",
    "from sklearn.dummy import DummyClassifier\n",
    "from sklearn.preprocessing import LabelEncoder\n",
    "\n",
    "from sklearn.linear_model import LogisticRegression\n",
    "from sklearn.ensemble import RandomForestClassifier\n",
    "from sklearn.svm import SVC\n",
    "from sklearn.neighbors import KNeighborsClassifier\n",
    "\n",
    "\n",
    "%matplotlib inline"
   ]
  },
  {
   "cell_type": "code",
   "execution_count": 14,
   "metadata": {
    "collapsed": false
   },
   "outputs": [],
   "source": [
    "# Reading the data\n",
    "df = pd.read_csv('~/Dissertation/data/joined_final_incl_clusters.csv') # entire data\n",
    "df_features = pd.read_csv('~/Dissertation/data/data_joined_final_FEATURES_ONLY.csv') # features only\n",
    "\n",
    "# Create individual target variables\n",
    "Y_antibiotics = df[['antibiotics']]\n",
    "Y_class = df[['Class']]\n",
    "Y_cluster = df[['cluster']]"
   ]
  },
  {
   "cell_type": "code",
   "execution_count": 15,
   "metadata": {
    "collapsed": false
   },
   "outputs": [
    {
     "data": {
      "text/plain": [
       "(16421, 688)"
      ]
     },
     "execution_count": 15,
     "metadata": {},
     "output_type": "execute_result"
    }
   ],
   "source": [
    "X_ = df_features.values\n",
    "X_.shape"
   ]
  },
  {
   "cell_type": "code",
   "execution_count": 16,
   "metadata": {
    "collapsed": false
   },
   "outputs": [
    {
     "data": {
      "text/plain": [
       "array([1, 1, 0, ..., 1, 1, 1])"
      ]
     },
     "execution_count": 16,
     "metadata": {},
     "output_type": "execute_result"
    }
   ],
   "source": [
    "Y_anti = Y_antibiotics.values.reshape(16421,)\n",
    "Y_anti"
   ]
  },
  {
   "cell_type": "markdown",
   "metadata": {},
   "source": [
    "### Train and Test Data"
   ]
  },
  {
   "cell_type": "code",
   "execution_count": 17,
   "metadata": {
    "collapsed": false
   },
   "outputs": [],
   "source": [
    "X = X_\n",
    "y = Y_anti\n",
    "\n",
    "X_train, X_test, y_train, y_test = train_test_split(X, y, test_size=0.3)\n",
    "sc = StandardScaler()\n",
    "sc.fit(X_train)\n",
    "X_train_std = sc.transform(X_train)\n",
    "X_test_std = sc.transform(X_test)"
   ]
  },
  {
   "cell_type": "markdown",
   "metadata": {},
   "source": [
    "### Baseline Predictor"
   ]
  },
  {
   "cell_type": "code",
   "execution_count": 6,
   "metadata": {
    "collapsed": false
   },
   "outputs": [
    {
     "name": "stdout",
     "output_type": "stream",
     "text": [
      "Misclassified samples: 2471\n",
      "Accuracy: 0.50\n"
     ]
    }
   ],
   "source": [
    "dummy = DummyClassifier(strategy='uniform')\n",
    "dummy.fit(X_train_std, y_train)\n",
    "\n",
    "dummy_pred = dummy.predict(X_test_std)\n",
    "print('Misclassified samples: %d' %(dummy_pred != y_test).sum())\n",
    "print('Accuracy: %.2f' %accuracy_score(y_test, dummy_pred))"
   ]
  },
  {
   "cell_type": "code",
   "execution_count": 52,
   "metadata": {
    "collapsed": false
   },
   "outputs": [
    {
     "data": {
      "image/png": "[encoded data removed]",
      "text/plain": [
       "<matplotlib.figure.Figure at 0x115dedd68>"
      ]
     },
     "metadata": {},
     "output_type": "display_data"
    }
   ],
   "source": [
    "confmat = confusion_matrix(y_true=y_test, y_pred=dummy_pred)\n",
    "fig, ax = plt.subplots(figsize=(2.5, 2.5))\n",
    "ax.matshow(confmat, cmap=plt.cm.Blues, alpha=0.3)\n",
    "for i in range(confmat.shape[0]):\n",
    "    for j in range(confmat.shape[1]):\n",
    "        ax.text(x=j, y=i, s=confmat[i, j], va='center', ha='center')\n",
    "\n",
    "plt.xlabel('predicted label')\n",
    "plt.ylabel('true label')\n",
    "\n",
    "plt.tight_layout()\n",
    "plt.savefig('./Dissertation/data/confusion_matrix_dummy.png', dpi=300)\n",
    "plt.show()"
   ]
  },
  {
   "cell_type": "markdown",
   "metadata": {},
   "source": [
    "### Perceptron"
   ]
  },
  {
   "cell_type": "code",
   "execution_count": 92,
   "metadata": {
    "collapsed": false
   },
   "outputs": [
    {
     "data": {
      "text/plain": [
       "Perceptron(alpha=0.0001, class_weight=None, eta0=0.1, fit_intercept=True,\n",
       "      n_iter=40, n_jobs=1, penalty=None, random_state=0, shuffle=True,\n",
       "      verbose=0, warm_start=False)"
      ]
     },
     "execution_count": 92,
     "metadata": {},
     "output_type": "execute_result"
    }
   ],
   "source": [
    "from sklearn.linear_model import Perceptron\n",
    "ppn = Perceptron(n_iter=40, eta0=0.1, random_state=0)\n",
    "ppn.fit(X_train_std, y_train)"
   ]
  },
  {
   "cell_type": "code",
   "execution_count": 98,
   "metadata": {
    "collapsed": false
   },
   "outputs": [
    {
     "name": "stdout",
     "output_type": "stream",
     "text": [
      "Misclassified samples: 958\n",
      "Accuracy: 0.81\n"
     ]
    }
   ],
   "source": [
    "ppn_pred = ppn.predict(X_test_std)\n",
    "\n",
    "print('Misclassified samples: %d' %(ppn_pred != y_test).sum())\n",
    "print('Accuracy: %.2f' %accuracy_score(y_test, ppn_pred))"
   ]
  },
  {
   "cell_type": "markdown",
   "metadata": {},
   "source": [
    "#### This model has a misclassification error (or classification accuracy) of 81 percent. 958 samples out of 16,421 were misclassified."
   ]
  },
  {
   "cell_type": "markdown",
   "metadata": {},
   "source": [
    "### Logistic Regression"
   ]
  },
  {
   "cell_type": "code",
   "execution_count": 96,
   "metadata": {
    "collapsed": false,
    "scrolled": true
   },
   "outputs": [
    {
     "data": {
      "text/plain": [
       "LogisticRegression(C=1000.0, class_weight=None, dual=False,\n",
       "          fit_intercept=True, intercept_scaling=1, max_iter=100,\n",
       "          multi_class='ovr', n_jobs=1, penalty='l2', random_state=0,\n",
       "          solver='liblinear', tol=0.0001, verbose=0, warm_start=False)"
      ]
     },
     "execution_count": 96,
     "metadata": {},
     "output_type": "execute_result"
    }
   ],
   "source": [
    "from sklearn.linear_model import LogisticRegression\n",
    "lr = LogisticRegression(C=1000.0, random_state=0)\n",
    "lr.fit(X_train_std, y_train)"
   ]
  },
  {
   "cell_type": "code",
   "execution_count": 99,
   "metadata": {
    "collapsed": false
   },
   "outputs": [
    {
     "name": "stdout",
     "output_type": "stream",
     "text": [
      "Training accuracy: 0.859143901166\n",
      "Test accuracy: 0.8498071849\n"
     ]
    }
   ],
   "source": [
    "print('Training accuracy:', lr.score(X_train_std, y_train))\n",
    "print('Test accuracy:', lr.score(X_test_std, y_test))"
   ]
  },
  {
   "cell_type": "markdown",
   "metadata": {},
   "source": [
    "#### There doesn't seem to be any overfitting as training and test accuracy are similar."
   ]
  },
  {
   "cell_type": "markdown",
   "metadata": {},
   "source": [
    "### Logistic Regression - GridSearch"
   ]
  },
  {
   "cell_type": "code",
   "execution_count": 10,
   "metadata": {
    "collapsed": false
   },
   "outputs": [
    {
     "name": "stdout",
     "output_type": "stream",
     "text": [
      "Best Accuracy: 0.853\n",
      "{'C': 1, 'n_jobs': -1, 'penalty': 'l2'}\n",
      "CPU times: user 1h 33min 59s, sys: 21.8 s, total: 1h 34min 21s\n",
      "Wall time: 1h 34min 51s\n"
     ]
    }
   ],
   "source": [
    "%%time\n",
    "\n",
    "# defining a grid of parameters over which to optimize the lr classifier\n",
    "\n",
    "params = [{'penalty': ['l1','l2'], \n",
    "           'C': [0.001, 0.01, 1, 10, 100, 1000],  \n",
    "           'n_jobs': [-1]}]\n",
    "lr = LogisticRegression(n_jobs = -1)\n",
    "\n",
    "gs_lr = GridSearchCV(lr, params, cv =10)\n",
    "gs_lr = gs_lr.fit(X_train_std, y_train)\n",
    "\n",
    "print('Best Accuracy: %.3f' %gs_lr.best_score_)\n",
    "print(gs_lr.best_params_)"
   ]
  },
  {
   "cell_type": "code",
   "execution_count": 18,
   "metadata": {
    "collapsed": false
   },
   "outputs": [
    {
     "name": "stdout",
     "output_type": "stream",
     "text": [
      "Misclassified samples: 694\n",
      "Accuracy: 0.86\n"
     ]
    }
   ],
   "source": [
    "lr_best = LogisticRegression(n_jobs = -1,C=1,penalty='l2')\n",
    "lr_best.fit(X_train_std, y_train)\n",
    "lr_pred_best = lr_best.predict(X_test_std)\n",
    "\n",
    "\n",
    "print('Misclassified samples: %d' %(lr_pred_best != y_test).sum())\n",
    "print('Accuracy: %.2f' %accuracy_score(y_test, lr_pred_best))"
   ]
  },
  {
   "cell_type": "code",
   "execution_count": 19,
   "metadata": {
    "collapsed": false
   },
   "outputs": [
    {
     "name": "stdout",
     "output_type": "stream",
     "text": [
      "[[1279  415]\n",
      " [ 279 2954]]\n"
     ]
    }
   ],
   "source": [
    "from sklearn.metrics import confusion_matrix\n",
    "\n",
    "confmat = confusion_matrix(y_true=y_test, y_pred=lr_pred_best)\n",
    "print(confmat)"
   ]
  },
  {
   "cell_type": "markdown",
   "metadata": {},
   "source": [
    "### Logistic Regression Confusion Matrix"
   ]
  },
  {
   "cell_type": "code",
   "execution_count": 29,
   "metadata": {
    "collapsed": false
   },
   "outputs": [
    {
     "data": {
      "image/png": "[encoded data removed]",
      "text/plain": [
       "<matplotlib.figure.Figure at 0x11144c0b8>"
      ]
     },
     "metadata": {},
     "output_type": "display_data"
    }
   ],
   "source": [
    "confmat = confusion_matrix(y_true=y_test, y_pred=lr_pred_best)\n",
    "fig, ax = plt.subplots(figsize=(2.5, 2.5))\n",
    "ax.matshow(confmat, cmap=plt.cm.Blues, alpha=0.3)\n",
    "for i in range(confmat.shape[0]):\n",
    "    for j in range(confmat.shape[1]):\n",
    "        ax.text(x=j, y=i, s=confmat[i, j], va='center', ha='center')\n",
    "\n",
    "plt.xlabel('predicted label')\n",
    "plt.ylabel('true label')\n",
    "\n",
    "plt.tight_layout()\n",
    "plt.savefig('./Dissertation/data/confusion_matrix_lr.png', dpi=300)\n",
    "plt.show()"
   ]
  },
  {
   "cell_type": "markdown",
   "metadata": {},
   "source": [
    "### SVM"
   ]
  },
  {
   "cell_type": "code",
   "execution_count": 168,
   "metadata": {
    "collapsed": false,
    "scrolled": false
   },
   "outputs": [
    {
     "data": {
      "text/plain": [
       "LinearSVC(C=1.0, class_weight=None, dual=True, fit_intercept=True,\n",
       "     intercept_scaling=1, loss='hinge', max_iter=1000, multi_class='ovr',\n",
       "     penalty='l2', random_state=0, tol=0.0001, verbose=0)"
      ]
     },
     "execution_count": 168,
     "metadata": {},
     "output_type": "execute_result"
    }
   ],
   "source": [
    "from sklearn.svm import SVC\n",
    "svm = LinearSVC(loss='hinge', C=1.0, random_state=0)\n",
    "svm.fit(X_train_std, y_train)"
   ]
  },
  {
   "cell_type": "code",
   "execution_count": 170,
   "metadata": {
    "collapsed": false,
    "scrolled": false
   },
   "outputs": [
    {
     "name": "stdout",
     "output_type": "stream",
     "text": [
      "Misclassified samples: 731\n",
      "Accuracy: 0.85\n"
     ]
    }
   ],
   "source": [
    "svm_pred = svm.predict(X_test_std)\n",
    "\n",
    "print('Misclassified samples: %d' %(svm_pred != y_test).sum())\n",
    "print('Accuracy: %.2f' %accuracy_score(y_test, svm_pred))"
   ]
  },
  {
   "cell_type": "markdown",
   "metadata": {},
   "source": [
    "### Random Forest Classifier"
   ]
  },
  {
   "cell_type": "code",
   "execution_count": 103,
   "metadata": {
    "collapsed": false
   },
   "outputs": [
    {
     "data": {
      "text/plain": [
       "RandomForestClassifier(bootstrap=True, class_weight=None, criterion='entropy',\n",
       "            max_depth=None, max_features='auto', max_leaf_nodes=None,\n",
       "            min_impurity_split=1e-07, min_samples_leaf=1,\n",
       "            min_samples_split=2, min_weight_fraction_leaf=0.0,\n",
       "            n_estimators=10, n_jobs=2, oob_score=False, random_state=1,\n",
       "            verbose=0, warm_start=False)"
      ]
     },
     "execution_count": 103,
     "metadata": {},
     "output_type": "execute_result"
    }
   ],
   "source": [
    "from sklearn.ensemble import RandomForestClassifier\n",
    "rf = RandomForestClassifier(criterion = 'entropy', n_estimators=10, random_state=1, n_jobs=2)\n",
    "rf.fit(X_train_std, y_train)"
   ]
  },
  {
   "cell_type": "code",
   "execution_count": 104,
   "metadata": {
    "collapsed": false
   },
   "outputs": [
    {
     "name": "stdout",
     "output_type": "stream",
     "text": [
      "Misclassified samples: 2360\n",
      "Accuracy: 0.52\n"
     ]
    }
   ],
   "source": [
    "rf_pred = rf.predict(X_test_std)\n",
    "\n",
    "print('Misclassified samples: %d' %(rf_pred != y_test).sum())\n",
    "print('Accuracy: %.2f' %accuracy_score(y_test, rf_pred))"
   ]
  },
  {
   "cell_type": "markdown",
   "metadata": {},
   "source": [
    "### Random Forest GridSearch"
   ]
  },
  {
   "cell_type": "code",
   "execution_count": 158,
   "metadata": {
    "collapsed": false
   },
   "outputs": [
    {
     "name": "stdout",
     "output_type": "stream",
     "text": [
      "Best Accuracy: 0.944\n",
      "{'max_depth': 50, 'n_estimators': 100, 'max_features': 'auto', 'oob_score': True}\n",
      "CPU times: user 15min 31s, sys: 26.1 s, total: 15min 57s\n",
      "Wall time: 5min 23s\n"
     ]
    }
   ],
   "source": [
    "%%time\n",
    "\n",
    "# GridSearch: defining a grid of parameters over which to optimize the rf classifier\n",
    "\n",
    "params = [{'n_estimators': [100,200], \n",
    "           'max_features': ['auto'], \n",
    "           'max_depth': [30,50], \n",
    "           'oob_score': [True, False]}]\n",
    "rf = RandomForestClassifier(n_jobs = -1)\n",
    "\n",
    "gs_rf = GridSearchCV(rf, params, cv =10)\n",
    "gs_rf = gs_rf.fit(X_train_std, y_train)\n",
    "\n",
    "print('Best Accuracy: %.3f' %gs_rf.best_score_)\n",
    "print(gs_rf.best_params_)"
   ]
  },
  {
   "cell_type": "code",
   "execution_count": 21,
   "metadata": {
    "collapsed": false
   },
   "outputs": [
    {
     "name": "stdout",
     "output_type": "stream",
     "text": [
      "Misclassified samples: 267\n",
      "Accuracy: 0.95\n"
     ]
    }
   ],
   "source": [
    "rf_best = RandomForestClassifier(max_depth=50, n_estimators=100, max_features='auto', oob_score=True, n_jobs = -1)\n",
    "rf_best.fit(X_train_std, y_train)\n",
    "rf_pred_best = rf_best.predict(X_test_std)\n",
    "\n",
    "\n",
    "print('Misclassified samples: %d' %(rf_pred_best != y_test).sum())\n",
    "print('Accuracy: %.2f' %accuracy_score(y_test, rf_pred_best))"
   ]
  },
  {
   "cell_type": "code",
   "execution_count": 34,
   "metadata": {
    "collapsed": false
   },
   "outputs": [
    {
     "data": {
      "image/png": "[encoded data removed]",
      "text/plain": [
       "<matplotlib.figure.Figure at 0x115cd8438>"
      ]
     },
     "metadata": {},
     "output_type": "display_data"
    }
   ],
   "source": [
    "confmat = confusion_matrix(y_true=y_test, y_pred=rf_pred_best)\n",
    "\n",
    "fig, ax = plt.subplots(figsize=(2.5, 2.5))\n",
    "ax.matshow(confmat, cmap=plt.cm.Blues, alpha=0.3)\n",
    "for i in range(confmat.shape[0]):\n",
    "    for j in range(confmat.shape[1]):\n",
    "        ax.text(x=j, y=i, s=confmat[i, j], va='center', ha='center')\n",
    "\n",
    "plt.xlabel('predicted label')\n",
    "plt.ylabel('true label')\n",
    "\n",
    "plt.tight_layout()\n",
    "plt.savefig('./Dissertation/data/confusion_matrix_rf.png', dpi=300)\n",
    "plt.show()"
   ]
  },
  {
   "cell_type": "markdown",
   "metadata": {},
   "source": [
    "#### Assessing feature importance with random forests"
   ]
  },
  {
   "cell_type": "code",
   "execution_count": 73,
   "metadata": {
    "collapsed": false
   },
   "outputs": [
    {
     "name": "stdout",
     "output_type": "stream",
     "text": [
      " 1) PRED_DDG                       0.218484\n",
      " 2) RSA                            0.209139\n",
      " 3) F296                           0.012119\n",
      " 4) F397                           0.010080\n",
      " 5) F237                           0.008647\n",
      " 6) F461                           0.007825\n",
      " 7) F219                           0.007739\n",
      " 8) F348                           0.006679\n",
      " 9) F115                           0.005900\n",
      "10) F25                            0.005719\n",
      "11) F217                           0.005493\n",
      "12) F306                           0.005114\n",
      "13) F510                           0.005104\n",
      "14) F383                           0.005082\n",
      "15) F554                           0.005012\n",
      "16) F439                           0.004869\n",
      "17) F286                           0.004819\n",
      "18) F153                           0.004785\n",
      "19) F445                           0.004744\n",
      "20) F327                           0.004540\n",
      "21) F74                            0.004426\n",
      "22) F60                            0.004371\n",
      "23) F462                           0.004226\n",
      "24) F434                           0.004160\n",
      "25) F488                           0.004043\n",
      "26) F460                           0.003975\n",
      "27) F361                           0.003973\n",
      "28) F249                           0.003963\n",
      "29) F377                           0.003939\n",
      "30) F18                            0.003891\n",
      "31) F442                           0.003873\n",
      "32) F96                            0.003701\n",
      "33) F178                           0.003616\n",
      "34) F470                           0.003440\n",
      "35) F594                           0.003193\n",
      "36) F362                           0.003143\n",
      "37) F226                           0.003086\n",
      "38) F304                           0.003076\n",
      "39) F464                           0.003051\n",
      "40) F23                            0.002972\n",
      "41) F311                           0.002956\n",
      "42) F125                           0.002950\n",
      "43) F88                            0.002928\n",
      "44) F302                           0.002873\n",
      "45) F281                           0.002864\n",
      "46) F94                            0.002798\n",
      "47) F420                           0.002795\n",
      "48) F90                            0.002723\n",
      "49) F197                           0.002708\n",
      "50) F614                           0.002702\n",
      "51) F534                           0.002697\n",
      "52) F526                           0.002572\n",
      "53) F413                           0.002429\n",
      "54) F653                           0.002400\n",
      "55) F13                            0.002387\n",
      "56) F535                           0.002368\n",
      "57) F284                           0.002360\n",
      "58) F221                           0.002332\n",
      "59) F231                           0.002331\n",
      "60) F158                           0.002253\n",
      "61) F135                           0.002209\n",
      "62) F370                           0.002155\n",
      "63) F472                           0.002132\n",
      "64) F406                           0.002100\n",
      "65) F516                           0.002091\n",
      "66) F388                           0.001998\n",
      "67) F615                           0.001985\n",
      "68) F24                            0.001935\n",
      "69) F630                           0.001839\n",
      "70) F703                           0.001826\n",
      "71) F513                           0.001818\n",
      "72) F385                           0.001802\n",
      "73) F62                            0.001778\n",
      "74) F401                           0.001773\n",
      "75) F190                           0.001763\n",
      "76) F457                           0.001762\n",
      "77) F483                           0.001755\n",
      "78) F117                           0.001745\n",
      "79) F329                           0.001744\n",
      "80) F222                           0.001715\n",
      "81) F156                           0.001699\n",
      "82) F374                           0.001661\n",
      "83) F564                           0.001660\n",
      "84) F637                           0.001652\n",
      "85) F269                           0.001631\n",
      "86) F160                           0.001625\n",
      "87) F147                           0.001615\n",
      "88) F650                           0.001592\n",
      "89) F258                           0.001588\n",
      "90) F604                           0.001574\n",
      "91) F109                           0.001574\n",
      "92) F556                           0.001536\n",
      "93) F287                           0.001528\n",
      "94) F204                           0.001527\n",
      "95) F295                           0.001498\n",
      "96) F355                           0.001495\n",
      "97) F514                           0.001444\n",
      "98) F65                            0.001423\n",
      "99) F339                           0.001417\n",
      "100) F496                           0.001417\n",
      "101) F366                           0.001394\n",
      "102) F161                           0.001391\n",
      "103) F278                           0.001379\n",
      "104) F506                           0.001377\n",
      "105) F46                            0.001368\n",
      "106) F601                           0.001361\n",
      "107) F114                           0.001361\n",
      "108) F323                           0.001355\n",
      "109) F145                           0.001354\n",
      "110) F211                           0.001348\n",
      "111) F696                           0.001340\n",
      "112) F230                           0.001329\n",
      "113) F181                           0.001320\n",
      "114) F662                           0.001316\n",
      "115) F252                           0.001287\n",
      "116) F456                           0.001283\n",
      "117) F289                           0.001263\n",
      "118) F112                           0.001254\n",
      "119) F173                           0.001250\n",
      "120) F276                           0.001232\n",
      "121) F277                           0.001231\n",
      "122) F602                           0.001228\n",
      "123) F625                           0.001222\n",
      "124) F429                           0.001210\n",
      "125) F2                             0.001192\n",
      "126) F212                           0.001185\n",
      "127) F39                            0.001175\n",
      "128) F280                           0.001174\n",
      "129) F180                           0.001170\n",
      "130) F350                           0.001162\n",
      "131) F541                           0.001156\n",
      "132) F446                           0.001155\n",
      "133) F113                           0.001155\n",
      "134) F351                           0.001138\n",
      "135) F619                           0.001129\n",
      "136) F393                           0.001100\n",
      "137) F592                           0.001100\n",
      "138) F43                            0.001095\n",
      "139) F515                           0.001092\n",
      "140) F272                           0.001082\n",
      "141) F214                           0.001074\n",
      "142) F507                           0.001070\n",
      "143) F416                           0.001064\n",
      "144) F505                           0.001051\n",
      "145) F616                           0.001051\n",
      "146) F87                            0.001042\n",
      "147) F407                           0.001035\n",
      "148) F360                           0.001032\n",
      "149) F331                           0.001031\n",
      "150) F262                           0.001028\n",
      "151) F66                            0.001022\n",
      "152) F123                           0.001012\n",
      "153) F491                           0.001009\n",
      "154) F536                           0.001007\n",
      "155) F387                           0.001005\n",
      "156) F5                             0.001004\n",
      "157) F611                           0.000994\n",
      "158) F261                           0.000986\n",
      "159) F561                           0.000983\n",
      "160) F646                           0.000980\n",
      "161) F64                            0.000978\n",
      "162) F572                           0.000965\n",
      "163) F369                           0.000962\n",
      "164) F274                           0.000961\n",
      "165) F73                            0.000959\n",
      "166) F168                           0.000954\n",
      "167) F48                            0.000938\n",
      "168) F271                           0.000938\n",
      "169) F490                           0.000934\n",
      "170) F382                           0.000927\n",
      "171) F14                            0.000914\n",
      "172) F146                           0.000905\n",
      "173) F563                           0.000900\n",
      "174) F354                           0.000897\n",
      "175) F299                           0.000897\n",
      "176) F189                           0.000896\n",
      "177) F489                           0.000891\n",
      "178) F395                           0.000890\n",
      "179) F208                           0.000889\n",
      "180) F227                           0.000886\n",
      "181) F632                           0.000879\n",
      "182) F137                           0.000872\n",
      "183) F347                           0.000858\n",
      "184) F264                           0.000857\n",
      "185) F502                           0.000855\n",
      "186) F459                           0.000852\n",
      "187) F191                           0.000843\n",
      "188) F309                           0.000840\n",
      "189) F408                           0.000834\n",
      "190) F617                           0.000831\n",
      "191) F305                           0.000830\n",
      "192) F677                           0.000829\n",
      "193) F159                           0.000816\n",
      "194) F198                           0.000811\n",
      "195) F404                           0.000809\n",
      "196) F19                            0.000805\n",
      "197) F275                           0.000803\n",
      "198) F85                            0.000803\n",
      "199) F623                           0.000799\n",
      "200) F504                           0.000796\n",
      "201) F167                           0.000788\n",
      "202) F216                           0.000782\n",
      "203) F118                           0.000776\n",
      "204) F288                           0.000772\n",
      "205) F609                           0.000771\n",
      "206) F337                           0.000759\n",
      "207) F553                           0.000758\n",
      "208) F136                           0.000757\n",
      "209) F52                            0.000757\n",
      "210) F7                             0.000757\n",
      "211) F467                           0.000733\n",
      "212) F38                            0.000733\n",
      "213) F22                            0.000727\n",
      "214) F107                           0.000723\n",
      "215) F441                           0.000721\n",
      "216) F45                            0.000719\n",
      "217) F523                           0.000718\n",
      "218) F642                           0.000717\n",
      "219) F322                           0.000707\n",
      "220) F438                           0.000707\n",
      "221) F44                            0.000707\n",
      "222) F205                           0.000705\n",
      "223) F285                           0.000705\n",
      "224) F657                           0.000699\n",
      "225) F132                           0.000693\n",
      "226) F30                            0.000691\n",
      "227) F201                           0.000687\n",
      "228) F12                            0.000685\n",
      "229) F378                           0.000683\n",
      "230) F110                           0.000679\n",
      "231) F673                           0.000672\n",
      "232) F238                           0.000672\n",
      "233) F200                           0.000668\n",
      "234) F213                           0.000663\n",
      "235) F417                           0.000663\n",
      "236) F334                           0.000660\n",
      "237) F498                           0.000658\n",
      "238) F519                           0.000655\n",
      "239) F433                           0.000653\n",
      "240) F517                           0.000647\n",
      "241) F342                           0.000646\n",
      "242) F70                            0.000643\n",
      "243) F665                           0.000642\n",
      "244) F365                           0.000641\n",
      "245) F83                            0.000639\n",
      "246) F265                           0.000637\n",
      "247) F511                           0.000637\n",
      "248) F133                           0.000636\n",
      "249) F492                           0.000634\n",
      "250) F648                           0.000632\n",
      "251) F103                           0.000631\n",
      "252) F80                            0.000631\n",
      "253) F163                           0.000629\n",
      "254) F124                           0.000626\n",
      "255) F84                            0.000616\n",
      "256) F410                           0.000615\n",
      "257) F228                           0.000614\n",
      "258) F244                           0.000612\n",
      "259) F232                           0.000612\n",
      "260) F344                           0.000609\n",
      "261) F373                           0.000606\n",
      "262) F248                           0.000606\n",
      "263) F440                           0.000605\n",
      "264) F697                           0.000603\n",
      "265) F672                           0.000601\n",
      "266) F701                           0.000597\n",
      "267) F177                           0.000596\n",
      "268) F58                            0.000594\n",
      "269) F203                           0.000592\n",
      "270) F215                           0.000589\n",
      "271) F57                            0.000586\n",
      "272) F396                           0.000585\n",
      "273) F282                           0.000584\n",
      "274) F343                           0.000583\n",
      "275) F595                           0.000581\n",
      "276) F448                           0.000580\n",
      "277) F539                           0.000579\n",
      "278) F698                           0.000579\n",
      "279) F144                           0.000573\n",
      "280) F179                           0.000572\n",
      "281) F412                           0.000571\n",
      "282) F587                           0.000570\n",
      "283) F411                           0.000570\n",
      "284) F183                           0.000568\n",
      "285) F233                           0.000565\n",
      "286) F661                           0.000564\n",
      "287) F544                           0.000563\n",
      "288) F333                           0.000561\n",
      "289) F246                           0.000559\n",
      "290) F531                           0.000553\n",
      "291) F150                           0.000548\n",
      "292) F17                            0.000546\n",
      "293) F618                           0.000543\n",
      "294) F68                            0.000542\n",
      "295) F245                           0.000542\n",
      "296) F174                           0.000532\n",
      "297) F307                           0.000531\n",
      "298) F171                           0.000530\n",
      "299) F270                           0.000527\n",
      "300) F676                           0.000525\n",
      "301) F131                           0.000523\n",
      "302) F471                           0.000522\n",
      "303) F598                           0.000522\n",
      "304) F61                            0.000522\n",
      "305) F121                           0.000516\n",
      "306) F647                           0.000515\n",
      "307) F680                           0.000515\n",
      "308) F627                           0.000514\n",
      "309) F530                           0.000511\n",
      "310) F590                           0.000511\n",
      "311) F509                           0.000510\n",
      "312) F649                           0.000509\n",
      "313) F693                           0.000509\n",
      "314) F578                           0.000505\n",
      "315) F379                           0.000501\n",
      "316) F659                           0.000498\n",
      "317) F589                           0.000496\n",
      "318) F654                           0.000495\n",
      "319) F371                           0.000492\n",
      "320) F241                           0.000488\n",
      "321) F42                            0.000486\n",
      "322) F292                           0.000486\n",
      "323) F50                            0.000486\n",
      "324) F122                           0.000485\n",
      "325) F223                           0.000484\n",
      "326) F357                           0.000479\n",
      "327) F540                           0.000477\n",
      "328) F141                           0.000477\n",
      "329) F169                           0.000476\n",
      "330) F527                           0.000476\n",
      "331) F414                           0.000475\n",
      "332) F341                           0.000474\n",
      "333) F493                           0.000467\n",
      "334) F415                           0.000463\n",
      "335) F639                           0.000463\n",
      "336) F108                           0.000462\n",
      "337) F349                           0.000461\n",
      "338) F436                           0.000458\n",
      "339) F685                           0.000456\n",
      "340) F486                           0.000455\n",
      "341) F656                           0.000454\n",
      "342) F291                           0.000453\n",
      "343) F104                           0.000452\n",
      "344) F134                           0.000451\n",
      "345) F425                           0.000450\n",
      "346) F367                           0.000445\n",
      "347) F427                           0.000445\n",
      "348) F386                           0.000442\n",
      "349) F194                           0.000442\n",
      "350) F78                            0.000442\n",
      "351) F688                           0.000441\n",
      "352) F316                           0.000440\n",
      "353) F319                           0.000438\n",
      "354) F669                           0.000438\n",
      "355) F607                           0.000437\n",
      "356) F529                           0.000433\n",
      "357) F432                           0.000429\n",
      "358) F55                            0.000424\n",
      "359) F257                           0.000417\n",
      "360) F297                           0.000416\n",
      "361) F164                           0.000416\n",
      "362) F116                           0.000414\n",
      "363) F674                           0.000412\n",
      "364) F591                           0.000406\n",
      "365) F9                             0.000402\n",
      "366) F187                           0.000402\n",
      "367) F455                           0.000401\n",
      "368) F92                            0.000400\n",
      "369) F422                           0.000400\n",
      "370) F51                            0.000399\n",
      "371) F192                           0.000399\n",
      "372) F186                           0.000397\n",
      "373) F40                            0.000394\n",
      "374) F263                           0.000391\n",
      "375) F645                           0.000391\n",
      "376) F260                           0.000387\n",
      "377) F283                           0.000384\n",
      "378) F154                           0.000382\n",
      "379) F53                            0.000381\n",
      "380) F562                           0.000379\n",
      "381) F149                           0.000377\n",
      "382) F689                           0.000376\n",
      "383) F75                            0.000376\n",
      "384) F426                           0.000375\n",
      "385) F188                           0.000374\n",
      "386) F59                            0.000373\n",
      "387) F394                           0.000372\n",
      "388) F430                           0.000370\n",
      "389) F142                           0.000368\n",
      "390) F636                           0.000367\n",
      "391) F568                           0.000365\n",
      "392) F682                           0.000365\n",
      "393) F207                           0.000364\n",
      "394) F644                           0.000364\n",
      "395) F458                           0.000362\n",
      "396) F638                           0.000362\n",
      "397) F605                           0.000360\n",
      "398) F251                           0.000357\n",
      "399) F453                           0.000356\n",
      "400) F345                           0.000355\n",
      "401) F152                           0.000353\n",
      "402) F256                           0.000351\n",
      "403) F691                           0.000350\n",
      "404) F165                           0.000349\n",
      "405) F293                           0.000348\n",
      "406) F583                           0.000346\n",
      "407) F346                           0.000343\n",
      "408) F501                           0.000343\n",
      "409) F235                           0.000343\n",
      "410) F120                           0.000338\n",
      "411) F328                           0.000336\n",
      "412) F310                           0.000336\n",
      "413) F254                           0.000334\n",
      "414) F224                           0.000332\n",
      "415) F452                           0.000329\n",
      "416) F139                           0.000328\n",
      "417) F303                           0.000327\n",
      "418) F175                           0.000327\n",
      "419) F678                           0.000326\n",
      "420) F450                           0.000325\n",
      "421) F621                           0.000325\n",
      "422) F552                           0.000324\n",
      "423) F549                           0.000322\n",
      "424) F543                           0.000322\n",
      "425) F294                           0.000320\n",
      "426) F573                           0.000316\n",
      "427) F635                           0.000314\n",
      "428) F643                           0.000311\n",
      "429) F658                           0.000308\n",
      "430) F359                           0.000308\n",
      "431) F695                           0.000308\n",
      "432) F193                           0.000307\n",
      "433) F81                            0.000304\n",
      "434) F400                           0.000302\n",
      "435) F332                           0.000302\n",
      "436) F72                            0.000299\n",
      "437) F687                           0.000298\n",
      "438) F89                            0.000298\n",
      "439) F533                           0.000298\n",
      "440) F593                           0.000293\n",
      "441) F368                           0.000293\n",
      "442) F218                           0.000290\n",
      "443) F532                           0.000288\n",
      "444) F454                           0.000287\n",
      "445) F210                           0.000286\n",
      "446) F301                           0.000285\n",
      "447) F77                            0.000279\n",
      "448) F195                           0.000279\n",
      "449) F405                           0.000279\n",
      "450) F6                             0.000279\n",
      "451) F315                           0.000278\n",
      "452) F234                           0.000278\n",
      "453) F560                           0.000272\n",
      "454) F358                           0.000272\n",
      "455) F126                           0.000272\n",
      "456) F679                           0.000270\n",
      "457) F548                           0.000269\n",
      "458) F622                           0.000268\n",
      "459) F253                           0.000265\n",
      "460) F47                            0.000264\n",
      "461) F54                            0.000263\n",
      "462) F41                            0.000262\n",
      "463) F468                           0.000261\n",
      "464) F449                           0.000261\n",
      "465) F353                           0.000259\n",
      "466) F547                           0.000259\n",
      "467) F317                           0.000256\n",
      "468) F16                            0.000255\n",
      "469) F300                           0.000254\n",
      "470) F206                           0.000253\n",
      "471) F503                           0.000253\n",
      "472) F320                           0.000253\n",
      "473) F239                           0.000251\n",
      "474) F660                           0.000250\n",
      "475) F196                           0.000250\n",
      "476) F599                           0.000249\n",
      "477) F148                           0.000249\n",
      "478) F318                           0.000248\n",
      "479) F326                           0.000247\n",
      "480) F100                           0.000242\n",
      "481) F569                           0.000240\n",
      "482) F512                           0.000239\n",
      "483) F431                           0.000239\n",
      "484) F465                           0.000239\n",
      "485) F538                           0.000239\n",
      "486) F267                           0.000238\n",
      "487) F49                            0.000237\n",
      "488) F690                           0.000237\n",
      "489) F399                           0.000237\n",
      "490) F130                           0.000235\n",
      "491) F700                           0.000234\n",
      "492) F250                           0.000228\n",
      "493) F363                           0.000228\n",
      "494) F651                           0.000227\n",
      "495) F101                           0.000226\n",
      "496) F69                            0.000225\n",
      "497) F381                           0.000224\n",
      "498) F451                           0.000224\n",
      "499) F143                           0.000224\n",
      "500) F559                           0.000223\n",
      "501) F666                           0.000223\n",
      "502) F641                           0.000221\n",
      "503) F336                           0.000221\n",
      "504) F37                            0.000220\n",
      "505) F398                           0.000220\n",
      "506) F27                            0.000219\n",
      "507) F155                           0.000218\n",
      "508) F570                           0.000218\n",
      "509) F702                           0.000217\n",
      "510) F56                            0.000216\n",
      "511) F71                            0.000216\n",
      "512) F356                           0.000210\n",
      "513) F584                           0.000210\n",
      "514) F466                           0.000206\n",
      "515) F565                           0.000205\n",
      "516) F325                           0.000205\n",
      "517) F612                           0.000204\n",
      "518) F176                           0.000203\n",
      "519) F409                           0.000202\n",
      "520) F423                           0.000200\n",
      "521) F629                           0.000199\n",
      "522) F243                           0.000199\n",
      "523) F444                           0.000197\n",
      "524) F537                           0.000194\n",
      "525) F330                           0.000192\n",
      "526) F499                           0.000189\n",
      "527) F421                           0.000189\n",
      "528) F29                            0.000188\n",
      "529) F364                           0.000188\n",
      "530) F558                           0.000187\n",
      "531) F225                           0.000186\n",
      "532) F32                            0.000185\n",
      "533) F675                           0.000185\n",
      "534) F3                             0.000185\n",
      "535) F166                           0.000184\n",
      "536) F551                           0.000183\n",
      "537) F437                           0.000181\n",
      "538) F485                           0.000175\n",
      "539) F626                           0.000174\n",
      "540) F98                            0.000173\n",
      "541) F242                           0.000172\n",
      "542) F694                           0.000170\n",
      "543) F522                           0.000170\n",
      "544) F184                           0.000170\n",
      "545) F576                           0.000170\n",
      "546) F312                           0.000168\n",
      "547) F324                           0.000167\n",
      "548) F652                           0.000165\n",
      "549) F403                           0.000158\n",
      "550) F99                            0.000158\n",
      "551) F266                           0.000158\n",
      "552) F279                           0.000157\n",
      "553) F15                            0.000156\n",
      "554) F463                           0.000156\n",
      "555) F259                           0.000154\n",
      "556) F500                           0.000154\n",
      "557) F21                            0.000152\n",
      "558) F668                           0.000152\n",
      "559) F582                           0.000151\n",
      "560) F4                             0.000150\n",
      "561) F157                           0.000150\n",
      "562) F555                           0.000149\n",
      "563) F581                           0.000147\n",
      "564) F655                           0.000147\n",
      "565) F443                           0.000146\n",
      "566) F247                           0.000146\n",
      "567) F372                           0.000146\n",
      "568) F508                           0.000145\n",
      "569) F20                            0.000145\n",
      "570) F469                           0.000143\n",
      "571) F435                           0.000142\n",
      "572) F610                           0.000142\n",
      "573) F33                            0.000141\n",
      "574) F608                           0.000141\n",
      "575) F418                           0.000139\n",
      "576) F557                           0.000137\n",
      "577) F229                           0.000135\n",
      "578) F35                            0.000135\n",
      "579) F255                           0.000131\n",
      "580) F634                           0.000131\n",
      "581) F138                           0.000130\n",
      "582) F487                           0.000130\n",
      "583) F664                           0.000127\n",
      "584) F375                           0.000127\n",
      "585) F314                           0.000125\n",
      "586) F571                           0.000123\n",
      "587) F91                            0.000122\n",
      "588) F352                           0.000122\n",
      "589) F202                           0.000122\n",
      "590) F321                           0.000121\n",
      "591) F606                           0.000121\n",
      "592) F1                             0.000120\n",
      "593) F340                           0.000119\n",
      "594) F670                           0.000119\n",
      "595) F34                            0.000118\n",
      "596) F129                           0.000118\n",
      "597) F106                           0.000117\n",
      "598) F172                           0.000116\n",
      "599) F10                            0.000115\n",
      "600) F240                           0.000111\n",
      "601) F313                           0.000109\n",
      "602) F681                           0.000109\n",
      "603) F692                           0.000108\n",
      "604) F376                           0.000108\n",
      "605) F102                           0.000106\n",
      "606) F392                           0.000106\n",
      "607) F162                           0.000104\n",
      "608) F574                           0.000104\n",
      "609) F384                           0.000104\n",
      "610) F580                           0.000102\n",
      "611) F185                           0.000101\n",
      "612) F11                            0.000100\n",
      "613) F518                           0.000098\n",
      "614) F76                            0.000093\n",
      "615) F596                           0.000089\n",
      "616) F63                            0.000088\n",
      "617) F127                           0.000088\n",
      "618) F520                           0.000086\n",
      "619) F268                           0.000085\n",
      "620) F545                           0.000083\n",
      "621) F624                           0.000082\n",
      "622) F419                           0.000081\n",
      "623) F495                           0.000080\n",
      "624) F298                           0.000079\n",
      "625) F151                           0.000077\n",
      "626) F97                            0.000077\n",
      "627) F603                           0.000076\n",
      "628) F335                           0.000076\n",
      "629) F671                           0.000076\n",
      "630) F550                           0.000075\n",
      "631) F640                           0.000073\n",
      "632) F140                           0.000069\n",
      "633) F566                           0.000069\n",
      "634) F273                           0.000068\n",
      "635) F600                           0.000068\n",
      "636) F82                            0.000066\n",
      "637) F424                           0.000065\n",
      "638) F236                           0.000064\n",
      "639) F497                           0.000063\n",
      "640) F86                            0.000063\n",
      "641) F546                           0.000063\n",
      "642) F170                           0.000063\n",
      "643) F8                             0.000062\n",
      "644) F389                           0.000059\n",
      "645) F79                            0.000058\n",
      "646) F667                           0.000058\n",
      "647) F290                           0.000058\n",
      "648) F391                           0.000054\n",
      "649) F484                           0.000053\n",
      "650) F631                           0.000052\n",
      "651) F613                           0.000051\n",
      "652) F209                           0.000051\n",
      "653) F620                           0.000048\n",
      "654) F633                           0.000048\n",
      "655) F119                           0.000047\n",
      "656) F579                           0.000045\n",
      "657) F31                            0.000045\n",
      "658) F577                           0.000045\n",
      "659) F628                           0.000044\n",
      "660) F338                           0.000041\n",
      "661) F95                            0.000041\n",
      "662) F428                           0.000040\n",
      "663) F528                           0.000037\n",
      "664) F542                           0.000037\n",
      "665) F26                            0.000033\n",
      "666) F308                           0.000032\n",
      "667) F447                           0.000032\n",
      "668) F128                           0.000029\n",
      "669) F220                           0.000029\n",
      "670) F199                           0.000027\n",
      "671) F494                           0.000027\n",
      "672) F575                           0.000025\n",
      "673) F402                           0.000025\n",
      "674) F111                           0.000024\n",
      "675) F105                           0.000022\n",
      "676) F182                           0.000020\n",
      "677) F586                           0.000015\n",
      "678) F567                           0.000010\n",
      "679) F588                           0.000009\n",
      "680) F699                           0.000008\n",
      "681) F585                           0.000006\n",
      "682) F36                            0.000006\n",
      "683) F93                            0.000005\n",
      "684) F597                           0.000005\n",
      "685) F67                            0.000005\n",
      "686) F380                           0.000004\n",
      "687) F28                            0.000001\n",
      "688) F390                           0.000001\n"
     ]
    }
   ],
   "source": [
    "feat_labels = df_features.columns\n",
    "\n",
    "importances = rf_best.feature_importances_\n",
    "indices = np.argsort(importances)[::-1]\n",
    "for f in range(X_train.shape[1]):\n",
    "    print(\"%2d) %-*s %f\" % (f + 1, 30, feat_labels[indices[f]], importances[indices[f]]))"
   ]
  },
  {
   "cell_type": "code",
   "execution_count": 77,
   "metadata": {
    "collapsed": false
   },
   "outputs": [
    {
     "data": {
      "text/plain": [
       "array([ 0.21848424,  0.20913946,  0.01211855,  0.01008009,  0.00864736,\n",
       "        0.00782487,  0.00773858,  0.00667886,  0.00590018,  0.00571944])"
      ]
     },
     "execution_count": 77,
     "metadata": {},
     "output_type": "execute_result"
    }
   ],
   "source": [
    "importances[indices[:10]]"
   ]
  },
  {
   "cell_type": "code",
   "execution_count": 90,
   "metadata": {
    "collapsed": false
   },
   "outputs": [
    {
     "data": {
      "image/png": "[encoded data removed]",
      "text/plain": [
       "<matplotlib.figure.Figure at 0x11140cfd0>"
      ]
     },
     "metadata": {},
     "output_type": "display_data"
    }
   ],
   "source": [
    "plt.bar(range(10),\n",
    "       importances[indices[:10]],\n",
    "       color='pink',\n",
    "       align='center')\n",
    "plt.xticks(range(10),\n",
    "          feat_labels[indices[:10]],\n",
    "          rotation=90)\n",
    "plt.xlim([-1, 10])\n",
    "plt.tight_layout()\n",
    "plt.savefig('./Dissertation/data/variable_importance_rf.png', dpi=300)\n",
    "plt.show()"
   ]
  },
  {
   "cell_type": "markdown",
   "metadata": {},
   "source": [
    "#### PRED_DDG and RSA are the most discriminative features in the dataset based on the average impurity decrease in the 10,000 decision trees."
   ]
  },
  {
   "cell_type": "markdown",
   "metadata": {},
   "source": [
    "### KNN"
   ]
  },
  {
   "cell_type": "code",
   "execution_count": null,
   "metadata": {
    "collapsed": true
   },
   "outputs": [],
   "source": [
    "gs = GridSearchCV(estimator=KNeighborsClassifier)"
   ]
  },
  {
   "cell_type": "code",
   "execution_count": 19,
   "metadata": {
    "collapsed": false
   },
   "outputs": [
    {
     "data": {
      "text/plain": [
       "KNeighborsClassifier(algorithm='auto', leaf_size=30, metric='minkowski',\n",
       "           metric_params=None, n_jobs=1, n_neighbors=5, p=2,\n",
       "           weights='uniform')"
      ]
     },
     "execution_count": 19,
     "metadata": {},
     "output_type": "execute_result"
    }
   ],
   "source": [
    "knn = KNeighborsClassifier(n_neighbors=5, p=2, metric='minkowski')\n",
    "knn.fit(X_train_std, y_train)"
   ]
  },
  {
   "cell_type": "code",
   "execution_count": 108,
   "metadata": {
    "collapsed": false
   },
   "outputs": [
    {
     "name": "stdout",
     "output_type": "stream",
     "text": [
      "Misclassified samples: 323\n",
      "Accuracy: 0.93\n"
     ]
    }
   ],
   "source": [
    "knn_pred = knn.predict(X_test_std)\n",
    "\n",
    "print('Misclassified samples: %d' %(knn_pred != y_test).sum())\n",
    "print('Accuracy: %.2f' %accuracy_score(y_test, knn_pred))"
   ]
  },
  {
   "cell_type": "markdown",
   "metadata": {},
   "source": [
    "### kNN GridSearch"
   ]
  },
  {
   "cell_type": "code",
   "execution_count": 148,
   "metadata": {
    "collapsed": false
   },
   "outputs": [
    {
     "name": "stdout",
     "output_type": "stream",
     "text": [
      "Best Accuracy: 0.933\n",
      "{'n_jobs': -1, 'weights': 'distance', 'n_neighbors': 5}\n",
      "CPU times: user 8min 57s, sys: 9.47 s, total: 9min 6s\n",
      "Wall time: 3min 7s\n"
     ]
    }
   ],
   "source": [
    "%%time\n",
    "\n",
    "# GridSearch: defining a grid of parameters over which to optimize the knn classifier\n",
    "\n",
    "params = [{'n_neighbors': [5, 10, 20], \n",
    "           'weights': ['uniform', 'distance'],  \n",
    "           'n_jobs': [-1]}]\n",
    "clf = KNeighborsClassifier(n_jobs = -1)\n",
    "\n",
    "gs = GridSearchCV(clf, params, cv =10)\n",
    "gs = gs.fit(X_train_std, y_train)\n",
    "\n",
    "print('Best Accuracy: %.3f' %gs.best_score_)\n",
    "print(gs.best_params_)"
   ]
  },
  {
   "cell_type": "code",
   "execution_count": 25,
   "metadata": {
    "collapsed": false
   },
   "outputs": [
    {
     "name": "stdout",
     "output_type": "stream",
     "text": [
      "Misclassified samples: 281\n",
      "Accuracy: 0.94\n"
     ]
    }
   ],
   "source": [
    "knn_best = KNeighborsClassifier(n_jobs = -1,weights='distance',n_neighbors=5)\n",
    "knn_best.fit(X_train_std, y_train)\n",
    "knn_pred_best = knn_best.predict(X_test_std)\n",
    "\n",
    "\n",
    "print('Misclassified samples: %d' %(knn_pred_best != y_test).sum())\n",
    "print('Accuracy: %.2f' %accuracy_score(y_test, knn_pred_best))"
   ]
  },
  {
   "cell_type": "code",
   "execution_count": 25,
   "metadata": {
    "collapsed": false
   },
   "outputs": [
    {
     "data": {
      "image/png": "[encoded data removed]",
      "text/plain": [
       "<matplotlib.figure.Figure at 0x115c09710>"
      ]
     },
     "metadata": {},
     "output_type": "display_data"
    }
   ],
   "source": [
    "confmat = confusion_matrix(y_true=y_test, y_pred=knn_pred_best)\n",
    "\n",
    "fig, ax = plt.subplots(figsize=(2.5, 2.5))\n",
    "ax.matshow(confmat, cmap=plt.cm.Blues, alpha=0.3)\n",
    "for i in range(confmat.shape[0]):\n",
    "    for j in range(confmat.shape[1]):\n",
    "        ax.text(x=j, y=i, s=confmat[i, j], va='center', ha='center')\n",
    "\n",
    "plt.xlabel('predicted label')\n",
    "plt.ylabel('true label')\n",
    "\n",
    "plt.tight_layout()\n",
    "plt.savefig('./Dissertation/data/confusion_matrix_knn.png', dpi=300)\n",
    "plt.show()"
   ]
  },
  {
   "cell_type": "code",
   "execution_count": null,
   "metadata": {
    "collapsed": true
   },
   "outputs": [],
   "source": []
  },
  {
   "cell_type": "code",
   "execution_count": 65,
   "metadata": {
    "collapsed": false
   },
   "outputs": [
    {
     "data": {
      "image/png": "[encoded data removed]",
      "text/plain": [
       "<matplotlib.figure.Figure at 0x1130e6160>"
      ]
     },
     "metadata": {},
     "output_type": "display_data"
    }
   ],
   "source": [
    "from sklearn.metrics import precision_recall_curve\n",
    "\n",
    "P_lr, R_lr, T_lr = precision_recall_curve(y_test, lr_pred_best)\n",
    "P_knn, R_knn, T_knn = precision_recall_curve(y_test, knn_pred_best)\n",
    "P_rf, R_rf, T_rf = precision_recall_curve(y_test, rf_pred_best)\n",
    "\n",
    "cz_lr = np.argmin(np.abs(T_lr))\n",
    "cz_lr_p = P_lr[cz_lr]\n",
    "cz_lr_r = R_lr[cz_lr]\n",
    "\n",
    "\n",
    "plt.figure()\n",
    "plt.xlim([0.0, 1.05])\n",
    "plt.ylim([0.0, 1.05])\n",
    "plt.plot(P_lr, R_lr, 'green')\n",
    "plt.plot(P_knn, R_knn,c='green')\n",
    "plt.plot(P_rf, R_rf,c='purple')\n",
    "plt.plot(cz_lr_p, cz_lr_r, 'o', markersize = 12, fillstyle = 'none', c='y', mew=1)\n",
    "plt.xlabel('Precision', fontsize=13)\n",
    "plt.ylabel('Recall', fontsize=13)\n",
    "plt.axes().set_aspect('equal')\n",
    "plt.show()"
   ]
  },
  {
   "cell_type": "code",
   "execution_count": null,
   "metadata": {
    "collapsed": true
   },
   "outputs": [],
   "source": []
  },
  {
   "cell_type": "markdown",
   "metadata": {},
   "source": [
    "### Precision and Recall"
   ]
  },
  {
   "cell_type": "code",
   "execution_count": 53,
   "metadata": {
    "collapsed": false
   },
   "outputs": [
    {
     "name": "stdout",
     "output_type": "stream",
     "text": [
      "Precision LR: 0.878\n",
      "Recall LR: 0.918\n",
      "Precision SVM: 0.881\n",
      "Recall SVM: 0.911\n",
      "Precision kNN: 0.947\n",
      "Recall kNN: 0.966\n",
      "Precision RF: 0.951\n",
      "Recall RF: 0.966\n",
      "Precision Dummy: 0.654\n",
      "Recall Dummy: 0.492\n"
     ]
    }
   ],
   "source": [
    "from sklearn.metrics import precision_score\n",
    "from sklearn.metrics import recall_score\n",
    "\n",
    "print('Precision LR: %.3f' % precision_score(y_true=y_test, y_pred=lr_pred_best))\n",
    "print('Recall LR: %.3f' % recall_score(y_true=y_test, y_pred=lr_pred_best))\n",
    "\n",
    "print('Precision SVM: %.3f' % precision_score(y_true=y_test, y_pred=svm_pred_best))\n",
    "print('Recall SVM: %.3f' % recall_score(y_true=y_test, y_pred=svm_pred_best))\n",
    "\n",
    "print('Precision kNN: %.3f' % precision_score(y_true=y_test, y_pred=knn_pred_best))\n",
    "print('Recall kNN: %.3f' % recall_score(y_true=y_test, y_pred=knn_pred_best))\n",
    "\n",
    "print('Precision RF: %.3f' % precision_score(y_true=y_test, y_pred=rf_pred_best))\n",
    "print('Recall RF: %.3f' % recall_score(y_true=y_test, y_pred=rf_pred_best))\n",
    "\n",
    "print('Precision Dummy: %.3f' % precision_score(y_true=y_test, y_pred=dummy_pred))\n",
    "print('Recall Dummy: %.3f' % recall_score(y_true=y_test, y_pred=dummy_pred))"
   ]
  },
  {
   "cell_type": "code",
   "execution_count": null,
   "metadata": {
    "collapsed": true
   },
   "outputs": [],
   "source": []
  }
 ],
 "metadata": {
  "anaconda-cloud": {},
  "kernelspec": {
   "display_name": "Python [conda root]",
   "language": "python",
   "name": "conda-root-py"
  },
  "language_info": {
   "codemirror_mode": {
    "name": "ipython",
    "version": 3
   },
   "file_extension": ".py",
   "mimetype": "text/x-python",
   "name": "python",
   "nbconvert_exporter": "python",
   "pygments_lexer": "ipython3",
   "version": "3.5.2"
  }
 },
 "nbformat": 4,
 "nbformat_minor": 1
}
